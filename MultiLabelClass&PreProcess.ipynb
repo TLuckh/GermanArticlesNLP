{
 "cells": [
  {
   "cell_type": "code",
   "execution_count": 1,
   "metadata": {
    "collapsed": false,
    "jupyter": {
     "outputs_hidden": false
    },
    "pycharm": {
     "name": "#%%\n"
    }
   },
   "outputs": [],
   "source": [
    "import _sqlite3\n",
    "import pandas as pd\n",
    "import numpy as np\n",
    "\n",
    "cnx = _sqlite3.connect(\"corpus.sqlite3\")"
   ]
  },
  {
   "cell_type": "code",
   "execution_count": 2,
   "metadata": {
    "collapsed": false,
    "jupyter": {
     "outputs_hidden": false
    },
    "pycharm": {
     "name": "#%%\n"
    }
   },
   "outputs": [],
   "source": [
    "comments_df = pd.read_sql_query(\"Select ID_Post, Headline, Body, Status FROM Posts\",cnx)\n",
    "labels_df = pd.read_sql_query(\"SELECT * From Annotations_consolidated\",cnx) "
   ]
  },
  {
   "cell_type": "code",
   "execution_count": 3,
   "metadata": {
    "collapsed": false,
    "jupyter": {
     "outputs_hidden": false
    },
    "pycharm": {
     "name": "#%%\n"
    }
   },
   "outputs": [],
   "source": [
    "labels = [\"ArgumentsUsed\",\"Discriminating\",\"Inappropriate\",\"OffTopic\",\"PersonalStories\",\"PossiblyFeedback\",\"SentimentNegative\",\"SentimentNeutral\",\"SentimentPositive\"]\n",
    "\n",
    "label_map = {y:x for (x,y) in enumerate(labels)}"
   ]
  },
  {
   "cell_type": "code",
   "execution_count": 4,
   "metadata": {
    "collapsed": false,
    "jupyter": {
     "outputs_hidden": false
    },
    "pycharm": {
     "name": "#%%\n"
    }
   },
   "outputs": [
    {
     "data": {
      "text/plain": [
       "ID_Post\n",
       "432258      True\n",
       "136446      True\n",
       "136458      True\n",
       "136457      True\n",
       "136456      True\n",
       "           ...  \n",
       "17999      False\n",
       "18001      False\n",
       "18006      False\n",
       "18007      False\n",
       "1010997    False\n",
       "Length: 11773, dtype: bool"
      ]
     },
     "execution_count": 4,
     "metadata": {},
     "output_type": "execute_result"
    }
   ],
   "source": [
    "labels_df.value_counts(\"ID_Post\").isin([9])"
   ]
  },
  {
   "cell_type": "code",
   "execution_count": 5,
   "metadata": {
    "collapsed": false,
    "jupyter": {
     "outputs_hidden": false
    },
    "pycharm": {
     "name": "#%%\n"
    }
   },
   "outputs": [
    {
     "data": {
      "text/plain": [
       "3599"
      ]
     },
     "execution_count": 5,
     "metadata": {},
     "output_type": "execute_result"
    }
   ],
   "source": [
    "index_values_of_9_label_posts = labels_df.value_counts(\"ID_Post\")[labels_df.value_counts(\"ID_Post\").isin([9])].index\n",
    "len(index_values_of_9_label_posts)"
   ]
  },
  {
   "cell_type": "code",
   "execution_count": 6,
   "metadata": {
    "collapsed": false,
    "jupyter": {
     "outputs_hidden": false
    },
    "pycharm": {
     "name": "#%%\n"
    }
   },
   "outputs": [
    {
     "data": {
      "text/html": [
       "<div>\n",
       "<style scoped>\n",
       "    .dataframe tbody tr th:only-of-type {\n",
       "        vertical-align: middle;\n",
       "    }\n",
       "\n",
       "    .dataframe tbody tr th {\n",
       "        vertical-align: top;\n",
       "    }\n",
       "\n",
       "    .dataframe thead th {\n",
       "        text-align: right;\n",
       "    }\n",
       "</style>\n",
       "<table border=\"1\" class=\"dataframe\">\n",
       "  <thead>\n",
       "    <tr style=\"text-align: right;\">\n",
       "      <th></th>\n",
       "      <th>ID_Post</th>\n",
       "      <th>Headline</th>\n",
       "      <th>Body</th>\n",
       "      <th>Status</th>\n",
       "    </tr>\n",
       "    <tr>\n",
       "      <th>ID_Post</th>\n",
       "      <th></th>\n",
       "      <th></th>\n",
       "      <th></th>\n",
       "      <th></th>\n",
       "    </tr>\n",
       "  </thead>\n",
       "  <tbody>\n",
       "    <tr>\n",
       "      <th>432258</th>\n",
       "      <td>432259</td>\n",
       "      <td>None</td>\n",
       "      <td>Das kann man nur mutmaßen, aber nicht erkennen...</td>\n",
       "      <td>online</td>\n",
       "    </tr>\n",
       "    <tr>\n",
       "      <th>136446</th>\n",
       "      <td>136447</td>\n",
       "      <td>None</td>\n",
       "      <td>Sorry für die verursachte Mühe der Löschungen.</td>\n",
       "      <td>deleted</td>\n",
       "    </tr>\n",
       "    <tr>\n",
       "      <th>136458</th>\n",
       "      <td>136459</td>\n",
       "      <td>None</td>\n",
       "      <td>Witzig, dass der Poster selber nicht widerspro...</td>\n",
       "      <td>online</td>\n",
       "    </tr>\n",
       "    <tr>\n",
       "      <th>136457</th>\n",
       "      <td>136458</td>\n",
       "      <td>None</td>\n",
       "      <td>Foggwulf und Mouilly haben es Ihnen ja schon e...</td>\n",
       "      <td>online</td>\n",
       "    </tr>\n",
       "    <tr>\n",
       "      <th>136456</th>\n",
       "      <td>136457</td>\n",
       "      <td>None</td>\n",
       "      <td>was auch erklärt, warum körperlich schwächere ...</td>\n",
       "      <td>online</td>\n",
       "    </tr>\n",
       "    <tr>\n",
       "      <th>...</th>\n",
       "      <td>...</td>\n",
       "      <td>...</td>\n",
       "      <td>...</td>\n",
       "      <td>...</td>\n",
       "    </tr>\n",
       "    <tr>\n",
       "      <th>875899</th>\n",
       "      <td>875900</td>\n",
       "      <td>None</td>\n",
       "      <td>Das beste Mittel gegen die angebliche Hetze si...</td>\n",
       "      <td>deleted</td>\n",
       "    </tr>\n",
       "    <tr>\n",
       "      <th>875937</th>\n",
       "      <td>875938</td>\n",
       "      <td>None</td>\n",
       "      <td>Frankreich und Portugal haben ihnen angeboten ...</td>\n",
       "      <td>deleted</td>\n",
       "    </tr>\n",
       "    <tr>\n",
       "      <th>875900</th>\n",
       "      <td>875901</td>\n",
       "      <td>Video an sehen</td>\n",
       "      <td>die Stinkefinger sind schon ausgefahren.... \\r...</td>\n",
       "      <td>deleted</td>\n",
       "    </tr>\n",
       "    <tr>\n",
       "      <th>875858</th>\n",
       "      <td>875859</td>\n",
       "      <td>None</td>\n",
       "      <td>Korrekte Headline: Migranten versuchen erneut ...</td>\n",
       "      <td>deleted</td>\n",
       "    </tr>\n",
       "    <tr>\n",
       "      <th>875888</th>\n",
       "      <td>875889</td>\n",
       "      <td>...wie man nur die wahrheit verdrehen kann...</td>\n",
       "      <td>NICHT: ...die mazedonische Polizei am Mittwoch...</td>\n",
       "      <td>deleted</td>\n",
       "    </tr>\n",
       "  </tbody>\n",
       "</table>\n",
       "<p>3599 rows × 4 columns</p>\n",
       "</div>"
      ],
      "text/plain": [
       "         ID_Post                                       Headline  \\\n",
       "ID_Post                                                           \n",
       "432258    432259                                           None   \n",
       "136446    136447                                           None   \n",
       "136458    136459                                           None   \n",
       "136457    136458                                           None   \n",
       "136456    136457                                           None   \n",
       "...          ...                                            ...   \n",
       "875899    875900                                           None   \n",
       "875937    875938                                           None   \n",
       "875900    875901                                 Video an sehen   \n",
       "875858    875859                                           None   \n",
       "875888    875889  ...wie man nur die wahrheit verdrehen kann...   \n",
       "\n",
       "                                                      Body   Status  \n",
       "ID_Post                                                              \n",
       "432258   Das kann man nur mutmaßen, aber nicht erkennen...   online  \n",
       "136446      Sorry für die verursachte Mühe der Löschungen.  deleted  \n",
       "136458   Witzig, dass der Poster selber nicht widerspro...   online  \n",
       "136457   Foggwulf und Mouilly haben es Ihnen ja schon e...   online  \n",
       "136456   was auch erklärt, warum körperlich schwächere ...   online  \n",
       "...                                                    ...      ...  \n",
       "875899   Das beste Mittel gegen die angebliche Hetze si...  deleted  \n",
       "875937   Frankreich und Portugal haben ihnen angeboten ...  deleted  \n",
       "875900   die Stinkefinger sind schon ausgefahren.... \\r...  deleted  \n",
       "875858   Korrekte Headline: Migranten versuchen erneut ...  deleted  \n",
       "875888   NICHT: ...die mazedonische Polizei am Mittwoch...  deleted  \n",
       "\n",
       "[3599 rows x 4 columns]"
      ]
     },
     "execution_count": 6,
     "metadata": {},
     "output_type": "execute_result"
    }
   ],
   "source": [
    "# Die Kommentare, für die alle 9 Labels annotiert wurden:\n",
    "comments_filtered_df =comments_df.loc[index_values_of_9_label_posts]\n",
    "comments_filtered_df"
   ]
  },
  {
   "cell_type": "code",
   "execution_count": 7,
   "metadata": {
    "collapsed": false,
    "jupyter": {
     "outputs_hidden": false
    },
    "pycharm": {
     "name": "#%%\n"
    }
   },
   "outputs": [],
   "source": [
    "# Anfügen der Spalten für jedes Label in comments_filtered_df\n",
    "for label in labels:\n",
    "    comments_filtered_df[label] = labels_df[\"Category\"]"
   ]
  },
  {
   "cell_type": "code",
   "execution_count": 8,
   "metadata": {
    "collapsed": false,
    "jupyter": {
     "outputs_hidden": false
    },
    "pycharm": {
     "name": "#%%\n"
    }
   },
   "outputs": [],
   "source": [
    "# Setzen der Labels in comments_filtered_df\n",
    "index_values = set(index_values_of_9_label_posts)\n",
    "for index,row in labels_df.iterrows():\n",
    "    if row[\"ID_Post\"] in index_values:\n",
    "        \n",
    "        #cur_label = label_map[row[\"Category\"]]\n",
    "        #cur_label_value = row[\"Value\"]\n",
    "        if row[\"Value\"] == 1:\n",
    "            comments_filtered_df.at[row[\"ID_Post\"], row[\"Category\"]] = row[\"Category\"] #alter stand nur dise zeile =row[\"Value\"]\n",
    "        elif row[\"Value\"] == 0:\n",
    "            comments_filtered_df.at[row[\"ID_Post\"], row[\"Category\"]] = ''\n",
    "        else:\n",
    "            comments_filtered_df.at[row[\"ID_Post\"], row[\"Category\"]] = \"xxxxxxxxx\""
   ]
  },
  {
   "cell_type": "code",
   "execution_count": 9,
   "metadata": {},
   "outputs": [],
   "source": [
    "#Connecting header to body\n",
    "comments_filtered_df['HeadBody'] = comments_filtered_df['Headline'].astype(str) +'###'+ comments_filtered_df['Body']\n",
    "comments_filtered_df['HeadBody'] = comments_filtered_df['HeadBody'].replace('###', ' ', regex=True)\n",
    "comments_filtered_df['HeadBody'] = comments_filtered_df['HeadBody'].replace(\"None\", '', regex=True)"
   ]
  },
  {
   "cell_type": "code",
   "execution_count": 10,
   "metadata": {},
   "outputs": [],
   "source": [
    "#Drop the ID_Post-column\n",
    "comments_filtered_df=comments_filtered_df.drop(\"ID_Post\",axis=1)"
   ]
  },
  {
   "cell_type": "code",
   "execution_count": 11,
   "metadata": {},
   "outputs": [],
   "source": [
    "#Creating Multi label column for Multi label classifier\n",
    "\n",
    "#testo = comments_filtered_df\n",
    "#testo[\"all_labels\"] = \"\"\n",
    "comments_filtered_df[\"all_labels\"]=\"\"\n",
    "p = []\n",
    "m = []\n",
    "labelss = [\"deleted\", \"online\", \"ArgumentsUsed\",\"Discriminating\",\"Inappropriate\",\"OffTopic\",\"PersonalStories\",\"PossiblyFeedback\",\"SentimentNegative\",\"SentimentNeutral\",\"SentimentPositive\"]\n",
    "for index, row in comments_filtered_df.iterrows():\n",
    "        \n",
    "        if row[\"Status\"] in labelss:\n",
    "            x = row[\"Status\"]\n",
    "            p.append(x)\n",
    "\n",
    "            \n",
    "        if row[\"ArgumentsUsed\"] in labelss:\n",
    "            x = row[\"ArgumentsUsed\"]\n",
    "            p.append(x)\n",
    "\n",
    "            \n",
    "        if row[\"Discriminating\"] in labelss:\n",
    "            x = row[\"Discriminating\"]\n",
    "            p.append(x)\n",
    "\n",
    "            \n",
    "        if row[\"Inappropriate\"] in labelss:\n",
    "            x = row[\"Inappropriate\"]\n",
    "            p.append(x)\n",
    "\n",
    "            \n",
    "        if row[\"OffTopic\"] in labelss:\n",
    "            x = row[\"OffTopic\"]\n",
    "            p.append(x)\n",
    "\n",
    "            \n",
    "        if row[\"PersonalStories\"] in labelss:\n",
    "            x = row[\"PersonalStories\"]\n",
    "            p.append(x)\n",
    "\n",
    "            \n",
    "        if row[\"PossiblyFeedback\"] in labelss:\n",
    "            x = row[\"PossiblyFeedback\"]\n",
    "            p.append(x)\n",
    "\n",
    "            \n",
    "        if row[\"SentimentNegative\"] in labelss:\n",
    "            x = row[\"SentimentNegative\"]\n",
    "            p.append(x)\n",
    "\n",
    "\n",
    "                        \n",
    "        if row[\"SentimentNeutral\"] in labelss:\n",
    "            x = row[\"SentimentNeutral\"]\n",
    "            p.append(x)\n",
    "\n",
    "            \n",
    "        if row[\"SentimentPositive\"] in labelss:\n",
    "            x = row[\"SentimentPositive\"]\n",
    "            p.append(x)\n",
    "\n",
    "        \n",
    "        row[\"all_labels\"] = p\n",
    "        p =[]"
   ]
  },
  {
   "cell_type": "code",
   "execution_count": 12,
   "metadata": {},
   "outputs": [],
   "source": [
    "#pritn df to csv for storage\n",
    "#comments_filtered_df.to_csv('dfxx.csv',sep=\"\\t\")"
   ]
  },
  {
   "cell_type": "code",
   "execution_count": 13,
   "metadata": {},
   "outputs": [
    {
     "data": {
      "text/html": [
       "<div>\n",
       "<style scoped>\n",
       "    .dataframe tbody tr th:only-of-type {\n",
       "        vertical-align: middle;\n",
       "    }\n",
       "\n",
       "    .dataframe tbody tr th {\n",
       "        vertical-align: top;\n",
       "    }\n",
       "\n",
       "    .dataframe thead th {\n",
       "        text-align: right;\n",
       "    }\n",
       "</style>\n",
       "<table border=\"1\" class=\"dataframe\">\n",
       "  <thead>\n",
       "    <tr style=\"text-align: right;\">\n",
       "      <th></th>\n",
       "      <th>Headline</th>\n",
       "      <th>Body</th>\n",
       "      <th>Status</th>\n",
       "      <th>ArgumentsUsed</th>\n",
       "      <th>Discriminating</th>\n",
       "      <th>Inappropriate</th>\n",
       "      <th>OffTopic</th>\n",
       "      <th>PersonalStories</th>\n",
       "      <th>PossiblyFeedback</th>\n",
       "      <th>SentimentNegative</th>\n",
       "      <th>SentimentNeutral</th>\n",
       "      <th>SentimentPositive</th>\n",
       "      <th>HeadBody</th>\n",
       "      <th>all_labels</th>\n",
       "    </tr>\n",
       "    <tr>\n",
       "      <th>ID_Post</th>\n",
       "      <th></th>\n",
       "      <th></th>\n",
       "      <th></th>\n",
       "      <th></th>\n",
       "      <th></th>\n",
       "      <th></th>\n",
       "      <th></th>\n",
       "      <th></th>\n",
       "      <th></th>\n",
       "      <th></th>\n",
       "      <th></th>\n",
       "      <th></th>\n",
       "      <th></th>\n",
       "      <th></th>\n",
       "    </tr>\n",
       "  </thead>\n",
       "  <tbody>\n",
       "    <tr>\n",
       "      <th>432258</th>\n",
       "      <td>None</td>\n",
       "      <td>Das kann man nur mutmaßen, aber nicht erkennen...</td>\n",
       "      <td>online</td>\n",
       "      <td></td>\n",
       "      <td></td>\n",
       "      <td></td>\n",
       "      <td></td>\n",
       "      <td></td>\n",
       "      <td></td>\n",
       "      <td></td>\n",
       "      <td>SentimentNeutral</td>\n",
       "      <td></td>\n",
       "      <td>Das kann man nur mutmaßen, aber nicht erkenne...</td>\n",
       "      <td>[online, SentimentNeutral]</td>\n",
       "    </tr>\n",
       "    <tr>\n",
       "      <th>136446</th>\n",
       "      <td>None</td>\n",
       "      <td>Sorry für die verursachte Mühe der Löschungen.</td>\n",
       "      <td>deleted</td>\n",
       "      <td></td>\n",
       "      <td></td>\n",
       "      <td></td>\n",
       "      <td></td>\n",
       "      <td></td>\n",
       "      <td></td>\n",
       "      <td>SentimentNegative</td>\n",
       "      <td></td>\n",
       "      <td></td>\n",
       "      <td>Sorry für die verursachte Mühe der Löschungen.</td>\n",
       "      <td>[deleted, SentimentNegative]</td>\n",
       "    </tr>\n",
       "    <tr>\n",
       "      <th>136458</th>\n",
       "      <td>None</td>\n",
       "      <td>Witzig, dass der Poster selber nicht widerspro...</td>\n",
       "      <td>online</td>\n",
       "      <td></td>\n",
       "      <td></td>\n",
       "      <td></td>\n",
       "      <td>OffTopic</td>\n",
       "      <td></td>\n",
       "      <td></td>\n",
       "      <td></td>\n",
       "      <td>SentimentNeutral</td>\n",
       "      <td></td>\n",
       "      <td>Witzig, dass der Poster selber nicht widerspr...</td>\n",
       "      <td>[online, OffTopic, SentimentNeutral]</td>\n",
       "    </tr>\n",
       "    <tr>\n",
       "      <th>136457</th>\n",
       "      <td>None</td>\n",
       "      <td>Foggwulf und Mouilly haben es Ihnen ja schon e...</td>\n",
       "      <td>online</td>\n",
       "      <td>ArgumentsUsed</td>\n",
       "      <td></td>\n",
       "      <td></td>\n",
       "      <td></td>\n",
       "      <td></td>\n",
       "      <td></td>\n",
       "      <td></td>\n",
       "      <td>SentimentNeutral</td>\n",
       "      <td></td>\n",
       "      <td>Foggwulf und Mouilly haben es Ihnen ja schon ...</td>\n",
       "      <td>[online, ArgumentsUsed, SentimentNeutral]</td>\n",
       "    </tr>\n",
       "    <tr>\n",
       "      <th>136456</th>\n",
       "      <td>None</td>\n",
       "      <td>was auch erklärt, warum körperlich schwächere ...</td>\n",
       "      <td>online</td>\n",
       "      <td>ArgumentsUsed</td>\n",
       "      <td></td>\n",
       "      <td></td>\n",
       "      <td></td>\n",
       "      <td></td>\n",
       "      <td></td>\n",
       "      <td></td>\n",
       "      <td>SentimentNeutral</td>\n",
       "      <td></td>\n",
       "      <td>was auch erklärt, warum körperlich schwächere...</td>\n",
       "      <td>[online, ArgumentsUsed, SentimentNeutral]</td>\n",
       "    </tr>\n",
       "    <tr>\n",
       "      <th>...</th>\n",
       "      <td>...</td>\n",
       "      <td>...</td>\n",
       "      <td>...</td>\n",
       "      <td>...</td>\n",
       "      <td>...</td>\n",
       "      <td>...</td>\n",
       "      <td>...</td>\n",
       "      <td>...</td>\n",
       "      <td>...</td>\n",
       "      <td>...</td>\n",
       "      <td>...</td>\n",
       "      <td>...</td>\n",
       "      <td>...</td>\n",
       "      <td>...</td>\n",
       "    </tr>\n",
       "    <tr>\n",
       "      <th>875899</th>\n",
       "      <td>None</td>\n",
       "      <td>Das beste Mittel gegen die angebliche Hetze si...</td>\n",
       "      <td>deleted</td>\n",
       "      <td></td>\n",
       "      <td></td>\n",
       "      <td></td>\n",
       "      <td></td>\n",
       "      <td></td>\n",
       "      <td></td>\n",
       "      <td>SentimentNegative</td>\n",
       "      <td></td>\n",
       "      <td></td>\n",
       "      <td>Das beste Mittel gegen die angebliche Hetze s...</td>\n",
       "      <td>[deleted, SentimentNegative]</td>\n",
       "    </tr>\n",
       "    <tr>\n",
       "      <th>875937</th>\n",
       "      <td>None</td>\n",
       "      <td>Frankreich und Portugal haben ihnen angeboten ...</td>\n",
       "      <td>deleted</td>\n",
       "      <td></td>\n",
       "      <td></td>\n",
       "      <td></td>\n",
       "      <td></td>\n",
       "      <td></td>\n",
       "      <td></td>\n",
       "      <td>SentimentNegative</td>\n",
       "      <td></td>\n",
       "      <td></td>\n",
       "      <td>Frankreich und Portugal haben ihnen angeboten...</td>\n",
       "      <td>[deleted, SentimentNegative]</td>\n",
       "    </tr>\n",
       "    <tr>\n",
       "      <th>875900</th>\n",
       "      <td>Video an sehen</td>\n",
       "      <td>die Stinkefinger sind schon ausgefahren.... \\r...</td>\n",
       "      <td>deleted</td>\n",
       "      <td></td>\n",
       "      <td></td>\n",
       "      <td></td>\n",
       "      <td></td>\n",
       "      <td></td>\n",
       "      <td></td>\n",
       "      <td>SentimentNegative</td>\n",
       "      <td></td>\n",
       "      <td></td>\n",
       "      <td>Video an sehen die Stinkefinger sind schon aus...</td>\n",
       "      <td>[deleted, SentimentNegative]</td>\n",
       "    </tr>\n",
       "    <tr>\n",
       "      <th>875858</th>\n",
       "      <td>None</td>\n",
       "      <td>Korrekte Headline: Migranten versuchen erneut ...</td>\n",
       "      <td>deleted</td>\n",
       "      <td></td>\n",
       "      <td></td>\n",
       "      <td></td>\n",
       "      <td></td>\n",
       "      <td></td>\n",
       "      <td></td>\n",
       "      <td></td>\n",
       "      <td>SentimentNeutral</td>\n",
       "      <td></td>\n",
       "      <td>Korrekte Headline: Migranten versuchen erneut...</td>\n",
       "      <td>[deleted, SentimentNeutral]</td>\n",
       "    </tr>\n",
       "    <tr>\n",
       "      <th>875888</th>\n",
       "      <td>...wie man nur die wahrheit verdrehen kann...</td>\n",
       "      <td>NICHT: ...die mazedonische Polizei am Mittwoch...</td>\n",
       "      <td>deleted</td>\n",
       "      <td></td>\n",
       "      <td>Discriminating</td>\n",
       "      <td></td>\n",
       "      <td></td>\n",
       "      <td></td>\n",
       "      <td></td>\n",
       "      <td>SentimentNegative</td>\n",
       "      <td></td>\n",
       "      <td></td>\n",
       "      <td>...wie man nur die wahrheit verdrehen kann... ...</td>\n",
       "      <td>[deleted, Discriminating, SentimentNegative]</td>\n",
       "    </tr>\n",
       "  </tbody>\n",
       "</table>\n",
       "<p>3599 rows × 14 columns</p>\n",
       "</div>"
      ],
      "text/plain": [
       "                                              Headline  \\\n",
       "ID_Post                                                  \n",
       "432258                                            None   \n",
       "136446                                            None   \n",
       "136458                                            None   \n",
       "136457                                            None   \n",
       "136456                                            None   \n",
       "...                                                ...   \n",
       "875899                                            None   \n",
       "875937                                            None   \n",
       "875900                                  Video an sehen   \n",
       "875858                                            None   \n",
       "875888   ...wie man nur die wahrheit verdrehen kann...   \n",
       "\n",
       "                                                      Body   Status  \\\n",
       "ID_Post                                                               \n",
       "432258   Das kann man nur mutmaßen, aber nicht erkennen...   online   \n",
       "136446      Sorry für die verursachte Mühe der Löschungen.  deleted   \n",
       "136458   Witzig, dass der Poster selber nicht widerspro...   online   \n",
       "136457   Foggwulf und Mouilly haben es Ihnen ja schon e...   online   \n",
       "136456   was auch erklärt, warum körperlich schwächere ...   online   \n",
       "...                                                    ...      ...   \n",
       "875899   Das beste Mittel gegen die angebliche Hetze si...  deleted   \n",
       "875937   Frankreich und Portugal haben ihnen angeboten ...  deleted   \n",
       "875900   die Stinkefinger sind schon ausgefahren.... \\r...  deleted   \n",
       "875858   Korrekte Headline: Migranten versuchen erneut ...  deleted   \n",
       "875888   NICHT: ...die mazedonische Polizei am Mittwoch...  deleted   \n",
       "\n",
       "         ArgumentsUsed  Discriminating Inappropriate  OffTopic  \\\n",
       "ID_Post                                                          \n",
       "432258                                                           \n",
       "136446                                                           \n",
       "136458                                                OffTopic   \n",
       "136457   ArgumentsUsed                                           \n",
       "136456   ArgumentsUsed                                           \n",
       "...                ...             ...           ...       ...   \n",
       "875899                                                           \n",
       "875937                                                           \n",
       "875900                                                           \n",
       "875858                                                           \n",
       "875888                  Discriminating                           \n",
       "\n",
       "        PersonalStories PossiblyFeedback  SentimentNegative  SentimentNeutral  \\\n",
       "ID_Post                                                                         \n",
       "432258                                                       SentimentNeutral   \n",
       "136446                                    SentimentNegative                     \n",
       "136458                                                       SentimentNeutral   \n",
       "136457                                                       SentimentNeutral   \n",
       "136456                                                       SentimentNeutral   \n",
       "...                 ...              ...                ...               ...   \n",
       "875899                                    SentimentNegative                     \n",
       "875937                                    SentimentNegative                     \n",
       "875900                                    SentimentNegative                     \n",
       "875858                                                       SentimentNeutral   \n",
       "875888                                    SentimentNegative                     \n",
       "\n",
       "        SentimentPositive                                           HeadBody  \\\n",
       "ID_Post                                                                        \n",
       "432258                      Das kann man nur mutmaßen, aber nicht erkenne...   \n",
       "136446                        Sorry für die verursachte Mühe der Löschungen.   \n",
       "136458                      Witzig, dass der Poster selber nicht widerspr...   \n",
       "136457                      Foggwulf und Mouilly haben es Ihnen ja schon ...   \n",
       "136456                      was auch erklärt, warum körperlich schwächere...   \n",
       "...                   ...                                                ...   \n",
       "875899                      Das beste Mittel gegen die angebliche Hetze s...   \n",
       "875937                      Frankreich und Portugal haben ihnen angeboten...   \n",
       "875900                     Video an sehen die Stinkefinger sind schon aus...   \n",
       "875858                      Korrekte Headline: Migranten versuchen erneut...   \n",
       "875888                     ...wie man nur die wahrheit verdrehen kann... ...   \n",
       "\n",
       "                                           all_labels  \n",
       "ID_Post                                                \n",
       "432258                     [online, SentimentNeutral]  \n",
       "136446                   [deleted, SentimentNegative]  \n",
       "136458           [online, OffTopic, SentimentNeutral]  \n",
       "136457      [online, ArgumentsUsed, SentimentNeutral]  \n",
       "136456      [online, ArgumentsUsed, SentimentNeutral]  \n",
       "...                                               ...  \n",
       "875899                   [deleted, SentimentNegative]  \n",
       "875937                   [deleted, SentimentNegative]  \n",
       "875900                   [deleted, SentimentNegative]  \n",
       "875858                    [deleted, SentimentNeutral]  \n",
       "875888   [deleted, Discriminating, SentimentNegative]  \n",
       "\n",
       "[3599 rows x 14 columns]"
      ]
     },
     "execution_count": 13,
     "metadata": {},
     "output_type": "execute_result"
    }
   ],
   "source": [
    "comments_filtered_df"
   ]
  },
  {
   "cell_type": "code",
   "execution_count": null,
   "metadata": {},
   "outputs": [],
   "source": []
  },
  {
   "cell_type": "code",
   "execution_count": null,
   "metadata": {},
   "outputs": [],
   "source": []
  },
  {
   "cell_type": "code",
   "execution_count": null,
   "metadata": {},
   "outputs": [],
   "source": []
  },
  {
   "cell_type": "code",
   "execution_count": 14,
   "metadata": {
    "collapsed": false,
    "jupyter": {
     "outputs_hidden": false
    },
    "pycharm": {
     "name": "#%%\n"
    }
   },
   "outputs": [],
   "source": [
    "import pandas as pd\n",
    "import numpy as np\n",
    "import json\n",
    "import nltk\n",
    "import re\n",
    "import csv\n",
    "import matplotlib.pyplot as plt \n",
    "import seaborn as sns\n",
    "from tqdm import tqdm\n",
    "from sklearn.feature_extraction.text import TfidfVectorizer\n",
    "from sklearn.model_selection import train_test_split\n",
    "from nltk.stem.snowball import SnowballStemmer\n",
    "from nltk.tokenize import word_tokenize\n",
    "from nltk.corpus import stopwords\n",
    "\n",
    "%matplotlib inline\n",
    "pd.set_option('display.max_colwidth', 300)"
   ]
  },
  {
   "cell_type": "code",
   "execution_count": 15,
   "metadata": {},
   "outputs": [],
   "source": [
    "meta = comments_filtered_df"
   ]
  },
  {
   "cell_type": "code",
   "execution_count": 16,
   "metadata": {
    "collapsed": false,
    "jupyter": {
     "outputs_hidden": false
    },
    "pycharm": {
     "name": "#%%\n"
    }
   },
   "outputs": [],
   "source": [
    "#meta['ID_Post'] = meta['ID_Post'].astype(str)\n",
    "meta['HeadBody'] = meta['HeadBody'].astype(str)"
   ]
  },
  {
   "cell_type": "code",
   "execution_count": 17,
   "metadata": {
    "collapsed": false,
    "jupyter": {
     "outputs_hidden": false
    },
    "pycharm": {
     "name": "#%%\n"
    }
   },
   "outputs": [],
   "source": [
    "# function for text cleaning \n",
    "def clean_text(text):\n",
    "    # remove backslash-apostrophe \n",
    "    text = re.sub(\"\\'\", \"\", text) \n",
    "    # remove everything except alphabets \n",
    "    text = re.sub(\"[^a-zA-Z]\",\" \",text) \n",
    "    # remove whitespaces \n",
    "    text = ' '.join(text.split()) \n",
    "    # convert text to lowercase \n",
    "    text = text.lower() \n",
    "    \n",
    "    return text"
   ]
  },
  {
   "cell_type": "code",
   "execution_count": 18,
   "metadata": {
    "collapsed": false,
    "jupyter": {
     "outputs_hidden": false
    },
    "pycharm": {
     "name": "#%%\n"
    }
   },
   "outputs": [
    {
     "name": "stderr",
     "output_type": "stream",
     "text": [
      "[nltk_data] Downloading package punkt to\n",
      "[nltk_data]     C:\\Users\\Tariki\\AppData\\Roaming\\nltk_data...\n",
      "[nltk_data]   Package punkt is already up-to-date!\n",
      "[nltk_data] Downloading package stopwords to\n",
      "[nltk_data]     C:\\Users\\Tariki\\AppData\\Roaming\\nltk_data...\n",
      "[nltk_data]   Package stopwords is already up-to-date!\n"
     ]
    }
   ],
   "source": [
    "nltk.download('punkt')\n",
    "nltk.download('stopwords')\n",
    "\n",
    "stemmer = SnowballStemmer(\"german\")\n",
    "stop_words = set(stopwords.words(\"german\"))\n",
    "\n",
    "\n",
    "def clean_text(text, for_embedding=False):\n",
    "    \"\"\"\n",
    "        - remove any html tags (< /br> often found)\n",
    "        - Keep only ASCII + European Chars and whitespace, no digits\n",
    "        - remove single letter chars\n",
    "        - convert all whitespaces (tabs etc.) to single wspace\n",
    "        if not for embedding (but e.g. tdf-idf):\n",
    "        - all lowercase\n",
    "        - remove stopwords, punctuation and stemm\n",
    "    \"\"\"\n",
    "    RE_WSPACE = re.compile(r\"\\s+\", re.IGNORECASE)\n",
    "    RE_TAGS = re.compile(r\"<[^>]+>\")\n",
    "    RE_ASCII = re.compile(r\"[^A-Za-zÀ-ž ]\", re.IGNORECASE)\n",
    "    RE_SINGLECHAR = re.compile(r\"\\b[A-Za-zÀ-ž]\\b\", re.IGNORECASE)\n",
    "    if for_embedding:\n",
    "        # Keep punctuation\n",
    "        RE_ASCII = re.compile(r\"[^A-Za-zÀ-ž,.!? ]\", re.IGNORECASE)\n",
    "        RE_SINGLECHAR = re.compile(r\"\\b[A-Za-zÀ-ž,.!?]\\b\", re.IGNORECASE)\n",
    "\n",
    "    text = re.sub(RE_TAGS, \" \", text)\n",
    "    text = re.sub(RE_ASCII, \" \", text)\n",
    "    text = re.sub(RE_SINGLECHAR, \" \", text)\n",
    "    text = re.sub(RE_WSPACE, \" \", text)\n",
    "\n",
    "    word_tokens = word_tokenize(text)\n",
    "    words_tokens_lower = [word.lower() for word in word_tokens]\n",
    "    words_filtered = words_tokens_lower\n",
    "    text_clean = \" \".join(words_filtered)\n",
    "    return text_clean"
   ]
  },
  {
   "cell_type": "code",
   "execution_count": 19,
   "metadata": {},
   "outputs": [],
   "source": [
    "meta['cleantext'] = meta['HeadBody'].apply(lambda x: clean_text(x))"
   ]
  },
  {
   "cell_type": "code",
   "execution_count": 20,
   "metadata": {},
   "outputs": [],
   "source": [
    "meta['cleantext'] = meta['HeadBody'].apply(lambda x: clean_text(x))"
   ]
  },
  {
   "cell_type": "code",
   "execution_count": 21,
   "metadata": {},
   "outputs": [
    {
     "data": {
      "image/png": "[encoded data removed]",
      "text/plain": [
       "<Figure size 864x1080 with 1 Axes>"
      ]
     },
     "metadata": {
      "needs_background": "light"
     },
     "output_type": "display_data"
    }
   ],
   "source": [
    "def freq_words(x, terms = 30): \n",
    "    all_words = ' '.join([text for text in x]) \n",
    "    all_words = all_words.split() \n",
    "    fdist = nltk.FreqDist(all_words) \n",
    "    words_df = pd.DataFrame({'word':list(fdist.keys()), 'count':list(fdist.values())}) \n",
    "  \n",
    "    # selecting top 20 most frequent words \n",
    "    d = words_df.nlargest(columns=\"count\", n = terms) \n",
    "  \n",
    "    # visualize words and frequencies\n",
    "    plt.figure(figsize=(12,15)) \n",
    "    ax = sns.barplot(data=d, x= \"count\", y = \"word\") \n",
    "    ax.set(ylabel = 'Word') \n",
    "    plt.show()\n",
    "\n",
    "#print 50 most frequent words \n",
    "freq_words(meta['cleantext'], 50)"
   ]
  },
  {
   "cell_type": "code",
   "execution_count": 22,
   "metadata": {},
   "outputs": [
    {
     "data": {
      "image/png": "[encoded data removed]",
      "text/plain": [
       "<Figure size 864x1080 with 1 Axes>"
      ]
     },
     "metadata": {
      "needs_background": "light"
     },
     "output_type": "display_data"
    }
   ],
   "source": [
    "from nltk.corpus import stopwords\n",
    "stop_words = set(stopwords.words('german'))\n",
    "\n",
    "# function to remove stopwords\n",
    "def remove_stopwords(text):\n",
    "    no_stopword_text = [w for w in text.split() if not w in stop_words]\n",
    "    return ' '.join(no_stopword_text)\n",
    "\n",
    "meta['cleantext'] = meta['cleantext'].apply(lambda x: remove_stopwords(x))\n",
    "freq_words(meta['cleantext'], 50)"
   ]
  },
  {
   "cell_type": "code",
   "execution_count": 23,
   "metadata": {},
   "outputs": [
    {
     "name": "stdout",
     "output_type": "stream",
     "text": [
      "['ArgumentsUsed' 'Discriminating' 'Inappropriate' 'OffTopic'\n",
      " 'PersonalStories' 'PossiblyFeedback' 'SentimentNegative'\n",
      " 'SentimentNeutral' 'SentimentPositive' 'deleted' 'online']\n"
     ]
    }
   ],
   "source": [
    "from sklearn.preprocessing import MultiLabelBinarizer\n",
    "\n",
    "multilabel_binarizer = MultiLabelBinarizer()\n",
    "multilabel_binarizer.fit(comments_filtered_df['all_labels'])\n",
    "print(multilabel_binarizer.classes_)\n",
    "\n",
    "# transform target variable\n",
    "y = multilabel_binarizer.transform(meta['all_labels'])"
   ]
  },
  {
   "cell_type": "code",
   "execution_count": 43,
   "metadata": {},
   "outputs": [],
   "source": [
    "tfidf_vectorizer = TfidfVectorizer(max_df=0.8, max_features=500)"
   ]
  },
  {
   "cell_type": "code",
   "execution_count": 44,
   "metadata": {},
   "outputs": [],
   "source": [
    "# split dataset into training and validation set\n",
    "xtrain, xval, ytrain, yval = train_test_split(meta['cleantext'], y, test_size=0.3, random_state=9)"
   ]
  },
  {
   "cell_type": "code",
   "execution_count": 45,
   "metadata": {},
   "outputs": [],
   "source": [
    "# create TF-IDF features\n",
    "xtrain_tfidf = tfidf_vectorizer.fit_transform(xtrain)\n",
    "xval_tfidf = tfidf_vectorizer.transform(xval)"
   ]
  },
  {
   "cell_type": "code",
   "execution_count": 46,
   "metadata": {},
   "outputs": [],
   "source": [
    "from sklearn.linear_model import LogisticRegression\n",
    "\n",
    "# Binary Relevance\n",
    "from sklearn.multiclass import OneVsRestClassifier\n",
    "\n",
    "# Performance metric\n",
    "from sklearn.metrics import f1_score"
   ]
  },
  {
   "cell_type": "code",
   "execution_count": 47,
   "metadata": {},
   "outputs": [],
   "source": [
    "lr = LogisticRegression()\n",
    "clf = OneVsRestClassifier(lr)"
   ]
  },
  {
   "cell_type": "code",
   "execution_count": 48,
   "metadata": {},
   "outputs": [
    {
     "data": {
      "text/html": [
       "<style>#sk-container-id-2 {color: black;background-color: white;}#sk-container-id-2 pre{padding: 0;}#sk-container-id-2 div.sk-toggleable {background-color: white;}#sk-container-id-2 label.sk-toggleable__label {cursor: pointer;display: block;width: 100%;margin-bottom: 0;padding: 0.3em;box-sizing: border-box;text-align: center;}#sk-container-id-2 label.sk-toggleable__label-arrow:before {content: \"▸\";float: left;margin-right: 0.25em;color: #696969;}#sk-container-id-2 label.sk-toggleable__label-arrow:hover:before {color: black;}#sk-container-id-2 div.sk-estimator:hover label.sk-toggleable__label-arrow:before {color: black;}#sk-container-id-2 div.sk-toggleable__content {max-height: 0;max-width: 0;overflow: hidden;text-align: left;background-color: #f0f8ff;}#sk-container-id-2 div.sk-toggleable__content pre {margin: 0.2em;color: black;border-radius: 0.25em;background-color: #f0f8ff;}#sk-container-id-2 input.sk-toggleable__control:checked~div.sk-toggleable__content {max-height: 200px;max-width: 100%;overflow: auto;}#sk-container-id-2 input.sk-toggleable__control:checked~label.sk-toggleable__label-arrow:before {content: \"▾\";}#sk-container-id-2 div.sk-estimator input.sk-toggleable__control:checked~label.sk-toggleable__label {background-color: #d4ebff;}#sk-container-id-2 div.sk-label input.sk-toggleable__control:checked~label.sk-toggleable__label {background-color: #d4ebff;}#sk-container-id-2 input.sk-hidden--visually {border: 0;clip: rect(1px 1px 1px 1px);clip: rect(1px, 1px, 1px, 1px);height: 1px;margin: -1px;overflow: hidden;padding: 0;position: absolute;width: 1px;}#sk-container-id-2 div.sk-estimator {font-family: monospace;background-color: #f0f8ff;border: 1px dotted black;border-radius: 0.25em;box-sizing: border-box;margin-bottom: 0.5em;}#sk-container-id-2 div.sk-estimator:hover {background-color: #d4ebff;}#sk-container-id-2 div.sk-parallel-item::after {content: \"\";width: 100%;border-bottom: 1px solid gray;flex-grow: 1;}#sk-container-id-2 div.sk-label:hover label.sk-toggleable__label {background-color: #d4ebff;}#sk-container-id-2 div.sk-serial::before {content: \"\";position: absolute;border-left: 1px solid gray;box-sizing: border-box;top: 0;bottom: 0;left: 50%;z-index: 0;}#sk-container-id-2 div.sk-serial {display: flex;flex-direction: column;align-items: center;background-color: white;padding-right: 0.2em;padding-left: 0.2em;position: relative;}#sk-container-id-2 div.sk-item {position: relative;z-index: 1;}#sk-container-id-2 div.sk-parallel {display: flex;align-items: stretch;justify-content: center;background-color: white;position: relative;}#sk-container-id-2 div.sk-item::before, #sk-container-id-2 div.sk-parallel-item::before {content: \"\";position: absolute;border-left: 1px solid gray;box-sizing: border-box;top: 0;bottom: 0;left: 50%;z-index: -1;}#sk-container-id-2 div.sk-parallel-item {display: flex;flex-direction: column;z-index: 1;position: relative;background-color: white;}#sk-container-id-2 div.sk-parallel-item:first-child::after {align-self: flex-end;width: 50%;}#sk-container-id-2 div.sk-parallel-item:last-child::after {align-self: flex-start;width: 50%;}#sk-container-id-2 div.sk-parallel-item:only-child::after {width: 0;}#sk-container-id-2 div.sk-dashed-wrapped {border: 1px dashed gray;margin: 0 0.4em 0.5em 0.4em;box-sizing: border-box;padding-bottom: 0.4em;background-color: white;}#sk-container-id-2 div.sk-label label {font-family: monospace;font-weight: bold;display: inline-block;line-height: 1.2em;}#sk-container-id-2 div.sk-label-container {text-align: center;}#sk-container-id-2 div.sk-container {/* jupyter's `normalize.less` sets `[hidden] { display: none; }` but bootstrap.min.css set `[hidden] { display: none !important; }` so we also need the `!important` here to be able to override the default hidden behavior on the sphinx rendered scikit-learn.org. See: https://github.com/scikit-learn/scikit-learn/issues/21755 */display: inline-block !important;position: relative;}#sk-container-id-2 div.sk-text-repr-fallback {display: none;}</style><div id=\"sk-container-id-2\" class=\"sk-top-container\"><div class=\"sk-text-repr-fallback\"><pre>OneVsRestClassifier(estimator=LogisticRegression())</pre><b>In a Jupyter environment, please rerun this cell to show the HTML representation or trust the notebook. <br />On GitHub, the HTML representation is unable to render, please try loading this page with nbviewer.org.</b></div><div class=\"sk-container\" hidden><div class=\"sk-item sk-dashed-wrapped\"><div class=\"sk-label-container\"><div class=\"sk-label sk-toggleable\"><input class=\"sk-toggleable__control sk-hidden--visually\" id=\"sk-estimator-id-4\" type=\"checkbox\" ><label for=\"sk-estimator-id-4\" class=\"sk-toggleable__label sk-toggleable__label-arrow\">OneVsRestClassifier</label><div class=\"sk-toggleable__content\"><pre>OneVsRestClassifier(estimator=LogisticRegression())</pre></div></div></div><div class=\"sk-parallel\"><div class=\"sk-parallel-item\"><div class=\"sk-item\"><div class=\"sk-label-container\"><div class=\"sk-label sk-toggleable\"><input class=\"sk-toggleable__control sk-hidden--visually\" id=\"sk-estimator-id-5\" type=\"checkbox\" ><label for=\"sk-estimator-id-5\" class=\"sk-toggleable__label sk-toggleable__label-arrow\">estimator: LogisticRegression</label><div class=\"sk-toggleable__content\"><pre>LogisticRegression()</pre></div></div></div><div class=\"sk-serial\"><div class=\"sk-item\"><div class=\"sk-estimator sk-toggleable\"><input class=\"sk-toggleable__control sk-hidden--visually\" id=\"sk-estimator-id-6\" type=\"checkbox\" ><label for=\"sk-estimator-id-6\" class=\"sk-toggleable__label sk-toggleable__label-arrow\">LogisticRegression</label><div class=\"sk-toggleable__content\"><pre>LogisticRegression()</pre></div></div></div></div></div></div></div></div></div></div>"
      ],
      "text/plain": [
       "OneVsRestClassifier(estimator=LogisticRegression())"
      ]
     },
     "execution_count": 48,
     "metadata": {},
     "output_type": "execute_result"
    }
   ],
   "source": [
    "# fit model on train data\n",
    "clf.fit(xtrain_tfidf, ytrain)"
   ]
  },
  {
   "cell_type": "code",
   "execution_count": 49,
   "metadata": {},
   "outputs": [],
   "source": [
    "# make predictions for validation set\n",
    "y_pred = clf.predict(xval_tfidf)"
   ]
  },
  {
   "cell_type": "code",
   "execution_count": 50,
   "metadata": {},
   "outputs": [
    {
     "data": {
      "text/plain": [
       "0.5163853028798412"
      ]
     },
     "execution_count": 50,
     "metadata": {},
     "output_type": "execute_result"
    }
   ],
   "source": [
    "# evaluate performance\n",
    "f1_score(yval, y_pred, average=\"micro\")"
   ]
  },
  {
   "cell_type": "code",
   "execution_count": 51,
   "metadata": {},
   "outputs": [
    {
     "name": "stdout",
     "output_type": "stream",
     "text": [
      "                   precision    recall  f1-score   support\n",
      "\n",
      "          deleted       0.28      0.03      0.06       318\n",
      "           online       0.00      0.00      0.00        84\n",
      "    ArgumentsUsed       0.00      0.00      0.00        96\n",
      "   Discriminating       0.50      0.01      0.01       176\n",
      "    Inappropriate       0.00      0.00      0.00        16\n",
      "         OffTopic       0.00      0.00      0.00        22\n",
      "  PersonalStories       0.53      0.48      0.50       484\n",
      " PossiblyFeedback       0.60      0.62      0.61       585\n",
      "SentimentNegative       0.00      0.00      0.00        11\n",
      " SentimentNeutral       0.48      0.21      0.29       377\n",
      "SentimentPositive       0.67      0.88      0.76       703\n",
      "\n",
      "        micro avg       0.60      0.45      0.52      2872\n",
      "        macro avg       0.28      0.20      0.20      2872\n",
      "     weighted avg       0.50      0.45      0.44      2872\n",
      "      samples avg       0.60      0.48      0.52      2872\n",
      "\n"
     ]
    },
    {
     "name": "stderr",
     "output_type": "stream",
     "text": [
      "C:\\ProgramData\\Anaconda3\\envs\\intro2nlp\\lib\\site-packages\\sklearn\\metrics\\_classification.py:1327: UndefinedMetricWarning: Precision and F-score are ill-defined and being set to 0.0 in labels with no predicted samples. Use `zero_division` parameter to control this behavior.\n",
      "  _warn_prf(average, modifier, msg_start, len(result))\n"
     ]
    }
   ],
   "source": [
    "from sklearn.metrics import classification_report\n",
    "\n",
    "label_names = [\"deleted\", \"online\", \"ArgumentsUsed\",\"Discriminating\",\"Inappropriate\",\"OffTopic\",\"PersonalStories\",\"PossiblyFeedback\",\"SentimentNegative\",\"SentimentNeutral\",\"SentimentPositive\"]\n",
    "\n",
    "print(classification_report(yval, y_pred,target_names=label_names))"
   ]
  },
  {
   "cell_type": "code",
   "execution_count": 52,
   "metadata": {},
   "outputs": [],
   "source": [
    "# predict probabilities\n",
    "y_pred_prob = clf.predict_proba(xval_tfidf)"
   ]
  },
  {
   "cell_type": "code",
   "execution_count": 53,
   "metadata": {},
   "outputs": [],
   "source": [
    "def infer_tags(q):\n",
    "    q = clean_text(q)\n",
    "    q = remove_stopwords(q)\n",
    "    q_vec = tfidf_vectorizer.transform([q])\n",
    "    q_pred = clf.predict(q_vec)\n",
    "    return multilabel_binarizer.inverse_transform(q_pred)"
   ]
  },
  {
   "cell_type": "code",
   "execution_count": 54,
   "metadata": {},
   "outputs": [
    {
     "name": "stdout",
     "output_type": "stream",
     "text": [
      "Kommentar:  Das ist einfach nur deren Hausrecht, die können da löschen und stehen lassen, was ihnen passt. Das ist einfach nur EIN Ort im Internet, wo es unendlich viele Orte geben kann an denen man seine Meinung verbreiten kann.\n",
      "\n",
      "Der Zugriff auf derstandard ist kein Grundrecht, d.h. selbst wenn man dort für das Posten von nun unerlaubten Beiträgen gebannt würde, so verliert man so ziemlich gar nichts von Bedeutung.\n",
      "\n",
      "Man kann sich sogar sofort eine eigene Webseite erstellen und seine Meinung dort posten und derstandard kann (und will) daran auch gar nichts ändern/verhindern.\n",
      "\n",
      "Das Grundrecht auf Meinungsfreiheit ist keine Pflicht für Unternehmen jedem Menschen eine Plattform zur Verbreitung jeder Meinung zur Verfügung stellen zu müssen!\n",
      "Und es gilt nur gegenüber dem Staat. \n",
      "Predicted Label:  [('SentimentNeutral', 'online')]\n",
      "Actual Label:  ['online', 'SentimentNeutral'] \n",
      "\n",
      "Kommentar:  nan \n",
      "Predicted Label:  [('SentimentNeutral', 'deleted')]\n",
      "Actual Label:  ['deleted', 'SentimentNeutral'] \n",
      "\n",
      "Kommentar:  nan \n",
      "Predicted Label:  [('SentimentNeutral', 'deleted')]\n",
      "Actual Label:  ['online', 'SentimentNeutral'] \n",
      "\n",
      "Kommentar:  Hab ich im Herbst hier  auch geschrieben.. ..das Echo war sensationell. Zusammengefasst: 1) Es geht ja um Menschen 2) Grenzen schließen funktioniert gar nicht 3) Verletzung der Menschenrechte 4) Ich sei ein ... (alles zwischen Orban und dem bekannten Braunauer) \n",
      "Predicted Label:  [('SentimentNegative', 'online')]\n",
      "Actual Label:  ['online', 'ArgumentsUsed', 'SentimentNeutral'] \n",
      "\n",
      "Kommentar:   Schönes Foto Nr 1, es scheint als sucht er die Konfrontation und hat noch Spaß dabei. \n",
      "Predicted Label:  [('SentimentNegative', 'online')]\n",
      "Actual Label:  ['deleted', 'SentimentNegative'] \n",
      "\n"
     ]
    }
   ],
   "source": [
    "for i in range(5): \n",
    "    k = xval.sample(1).index[0] \n",
    "    print(\"Kommentar: \", meta['HeadBody'][k], \"\\nPredicted Label: \", infer_tags(xval[k])), print(\"Actual Label: \",meta['all_labels'][k], \"\\n\")"
   ]
  },
  {
   "cell_type": "code",
   "execution_count": null,
   "metadata": {},
   "outputs": [],
   "source": [
    "\n"
   ]
  },
  {
   "cell_type": "code",
   "execution_count": 55,
   "metadata": {},
   "outputs": [],
   "source": [
    "# predict probabilities\n",
    "y_pred_prob = clf.predict_proba(xval_tfidf)"
   ]
  },
  {
   "cell_type": "code",
   "execution_count": 56,
   "metadata": {},
   "outputs": [
    {
     "name": "stdout",
     "output_type": "stream",
     "text": [
      "F-Score:  0.38937093275488066 Threshold:  0\n",
      "F-Score:  0.5513007284079083 Threshold:  0.1\n",
      "F-Score:  0.5886792452830188 Threshold:  0.2\n",
      "F-Score:  0.5958768709404123 Threshold:  0.30000000000000004\n",
      "F-Score:  0.5756873136800265 Threshold:  0.4\n",
      "F-Score:  0.5163853028798412 Threshold:  0.5\n",
      "F-Score:  0.3963178294573643 Threshold:  0.6\n",
      "F-Score:  0.2224168126094571 Threshold:  0.7\n",
      "F-Score:  0.05945223780895124 Threshold:  0.7999999999999999\n",
      "F-Score:  0.0013917884481558804 Threshold:  0.8999999999999999\n",
      "F-Score:  0.0 Threshold:  0.9999999999999999\n"
     ]
    }
   ],
   "source": [
    "#calculating f-score for different threshold of log regression\n",
    "t=0\n",
    "while t <= 1:\n",
    "    y_pred_new = (y_pred_prob >= t).astype(int)\n",
    "    \n",
    "    # evaluate performance\n",
    "    print(\"F-Score: \", f1_score(yval, y_pred_new, average=\"micro\"), \"Threshold: \", t)\n",
    "    t = t+0.1 # threshold value\n"
   ]
  },
  {
   "cell_type": "code",
   "execution_count": 57,
   "metadata": {},
   "outputs": [],
   "source": [
    "t = 0.3 # threshold value with max F-Score\n",
    "y_pred_new = (y_pred_prob >= t).astype(int)"
   ]
  },
  {
   "cell_type": "code",
   "execution_count": 58,
   "metadata": {},
   "outputs": [
    {
     "data": {
      "text/plain": [
       "0.5958768709404123"
      ]
     },
     "execution_count": 58,
     "metadata": {},
     "output_type": "execute_result"
    }
   ],
   "source": [
    "# evaluate performance\n",
    "f1_score(yval, y_pred_new, average=\"micro\")"
   ]
  },
  {
   "cell_type": "code",
   "execution_count": 59,
   "metadata": {},
   "outputs": [
    {
     "name": "stdout",
     "output_type": "stream",
     "text": [
      "                   precision    recall  f1-score   support\n",
      "\n",
      "          deleted       0.30      0.39      0.34       318\n",
      "           online       0.00      0.00      0.00        84\n",
      "    ArgumentsUsed       0.00      0.00      0.00        96\n",
      "   Discriminating       0.36      0.11      0.17       176\n",
      "    Inappropriate       0.00      0.00      0.00        16\n",
      "         OffTopic       0.00      0.00      0.00        22\n",
      "  PersonalStories       0.46      0.93      0.61       484\n",
      " PossiblyFeedback       0.55      0.95      0.70       585\n",
      "SentimentNegative       0.00      0.00      0.00        11\n",
      " SentimentNeutral       0.39      0.71      0.50       377\n",
      "SentimentPositive       0.65      0.99      0.79       703\n",
      "\n",
      "        micro avg       0.50      0.73      0.60      2872\n",
      "        macro avg       0.25      0.37      0.28      2872\n",
      "     weighted avg       0.46      0.73      0.55      2872\n",
      "      samples avg       0.51      0.77      0.60      2872\n",
      "\n"
     ]
    },
    {
     "name": "stderr",
     "output_type": "stream",
     "text": [
      "C:\\ProgramData\\Anaconda3\\envs\\intro2nlp\\lib\\site-packages\\sklearn\\metrics\\_classification.py:1327: UndefinedMetricWarning: Precision and F-score are ill-defined and being set to 0.0 in labels with no predicted samples. Use `zero_division` parameter to control this behavior.\n",
      "  _warn_prf(average, modifier, msg_start, len(result))\n"
     ]
    }
   ],
   "source": [
    "from sklearn.metrics import classification_report\n",
    "\n",
    "label_names = [\"deleted\", \"online\", \"ArgumentsUsed\",\"Discriminating\",\"Inappropriate\",\"OffTopic\",\"PersonalStories\",\"PossiblyFeedback\",\"SentimentNegative\",\"SentimentNeutral\",\"SentimentPositive\"]\n",
    "\n",
    "print(classification_report(yval, y_pred_new,target_names=label_names))\n",
    "\n"
   ]
  },
  {
   "cell_type": "code",
   "execution_count": 41,
   "metadata": {},
   "outputs": [],
   "source": []
  },
  {
   "cell_type": "code",
   "execution_count": null,
   "metadata": {},
   "outputs": [],
   "source": []
  },
  {
   "cell_type": "code",
   "execution_count": null,
   "metadata": {},
   "outputs": [],
   "source": []
  }
 ],
 "metadata": {
  "kernelspec": {
   "display_name": "Python 3 (ipykernel)",
   "language": "python",
   "name": "python3"
  },
  "language_info": {
   "codemirror_mode": {
    "name": "ipython",
    "version": 3
   },
   "file_extension": ".py",
   "mimetype": "text/x-python",
   "name": "python",
   "nbconvert_exporter": "python",
   "pygments_lexer": "ipython3",
   "version": "3.8.13"
  }
 },
 "nbformat": 4,
 "nbformat_minor": 4
}
