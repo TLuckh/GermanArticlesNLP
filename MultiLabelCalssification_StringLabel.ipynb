{
 "cells": [
  {
   "cell_type": "code",
   "execution_count": 1,
   "id": "fbcb1a97-be8b-4dcf-8e2d-da2c5d7889e6",
   "metadata": {},
   "outputs": [],
   "source": [
    "import pandas as pd\n",
    "import numpy as np\n",
    "import json\n",
    "import nltk\n",
    "import re\n",
    "import csv\n",
    "import matplotlib.pyplot as plt \n",
    "import seaborn as sns\n",
    "from tqdm import tqdm\n",
    "from sklearn.feature_extraction.text import TfidfVectorizer\n",
    "from sklearn.model_selection import train_test_split\n",
    "from nltk.stem.snowball import SnowballStemmer\n",
    "from nltk.tokenize import word_tokenize\n",
    "from nltk.corpus import stopwords\n",
    "\n",
    "%matplotlib inline\n",
    "pd.set_option('display.max_colwidth', 300)"
   ]
  },
  {
   "cell_type": "code",
   "execution_count": 2,
   "id": "f734092c-87f1-40cf-8e1c-0764f2bd5c08",
   "metadata": {},
   "outputs": [
    {
     "data": {
      "text/html": [
       "<div>\n",
       "<style scoped>\n",
       "    .dataframe tbody tr th:only-of-type {\n",
       "        vertical-align: middle;\n",
       "    }\n",
       "\n",
       "    .dataframe tbody tr th {\n",
       "        vertical-align: top;\n",
       "    }\n",
       "\n",
       "    .dataframe thead th {\n",
       "        text-align: right;\n",
       "    }\n",
       "</style>\n",
       "<table border=\"1\" class=\"dataframe\">\n",
       "  <thead>\n",
       "    <tr style=\"text-align: right;\">\n",
       "      <th></th>\n",
       "      <th>ID_Post</th>\n",
       "      <th>Headline</th>\n",
       "      <th>Body</th>\n",
       "      <th>Status</th>\n",
       "      <th>ArgumentsUsed</th>\n",
       "      <th>Discriminating</th>\n",
       "      <th>Inappropriate</th>\n",
       "      <th>OffTopic</th>\n",
       "      <th>PersonalStories</th>\n",
       "      <th>PossiblyFeedback</th>\n",
       "      <th>SentimentNegative</th>\n",
       "      <th>SentimentNeutral</th>\n",
       "      <th>SentimentPositive</th>\n",
       "      <th>HeadBody</th>\n",
       "      <th>new_labels</th>\n",
       "    </tr>\n",
       "  </thead>\n",
       "  <tbody>\n",
       "    <tr>\n",
       "      <th>0</th>\n",
       "      <td>432258</td>\n",
       "      <td>NaN</td>\n",
       "      <td>Das kann man nur mutmaßen, aber nicht erkennen. Könnten genauso gut einfach Dreckspritzer sein.</td>\n",
       "      <td>online</td>\n",
       "      <td>NaN</td>\n",
       "      <td>NaN</td>\n",
       "      <td>NaN</td>\n",
       "      <td>NaN</td>\n",
       "      <td>NaN</td>\n",
       "      <td>NaN</td>\n",
       "      <td>NaN</td>\n",
       "      <td>SentimentNeutral</td>\n",
       "      <td>NaN</td>\n",
       "      <td>Das kann man nur mutmaßen, aber nicht erkennen. Könnten genauso gut einfach Dreckspritzer sein.</td>\n",
       "      <td>online        SentimentNeutral</td>\n",
       "    </tr>\n",
       "    <tr>\n",
       "      <th>1</th>\n",
       "      <td>136446</td>\n",
       "      <td>NaN</td>\n",
       "      <td>Sorry für die verursachte Mühe der Löschungen.</td>\n",
       "      <td>deleted</td>\n",
       "      <td>NaN</td>\n",
       "      <td>NaN</td>\n",
       "      <td>NaN</td>\n",
       "      <td>NaN</td>\n",
       "      <td>NaN</td>\n",
       "      <td>NaN</td>\n",
       "      <td>SentimentNegative</td>\n",
       "      <td>NaN</td>\n",
       "      <td>NaN</td>\n",
       "      <td>Sorry für die verursachte Mühe der Löschungen.</td>\n",
       "      <td>deleted       SentimentNegative</td>\n",
       "    </tr>\n",
       "    <tr>\n",
       "      <th>2</th>\n",
       "      <td>136458</td>\n",
       "      <td>NaN</td>\n",
       "      <td>Witzig, dass der Poster selber nicht widersprochen hat. :-)</td>\n",
       "      <td>online</td>\n",
       "      <td>NaN</td>\n",
       "      <td>NaN</td>\n",
       "      <td>NaN</td>\n",
       "      <td>OffTopic</td>\n",
       "      <td>NaN</td>\n",
       "      <td>NaN</td>\n",
       "      <td>NaN</td>\n",
       "      <td>SentimentNeutral</td>\n",
       "      <td>NaN</td>\n",
       "      <td>Witzig, dass der Poster selber nicht widersprochen hat. :-)</td>\n",
       "      <td>online    OffTopic    SentimentNeutral</td>\n",
       "    </tr>\n",
       "    <tr>\n",
       "      <th>3</th>\n",
       "      <td>136457</td>\n",
       "      <td>NaN</td>\n",
       "      <td>Foggwulf und Mouilly haben es Ihnen ja schon erklärt und ihre richtige Interpretation dargelegt.\\r\\n\\r\\nAuch bei diesem Posting bitte wieder anwenden ;)</td>\n",
       "      <td>online</td>\n",
       "      <td>ArgumentsUsed</td>\n",
       "      <td>NaN</td>\n",
       "      <td>NaN</td>\n",
       "      <td>NaN</td>\n",
       "      <td>NaN</td>\n",
       "      <td>NaN</td>\n",
       "      <td>NaN</td>\n",
       "      <td>SentimentNeutral</td>\n",
       "      <td>NaN</td>\n",
       "      <td>Foggwulf und Mouilly haben es Ihnen ja schon erklärt und ihre richtige Interpretation dargelegt.\\r\\n\\r\\nAuch bei diesem Posting bitte wieder anwenden ;)</td>\n",
       "      <td>online ArgumentsUsed       SentimentNeutral</td>\n",
       "    </tr>\n",
       "    <tr>\n",
       "      <th>4</th>\n",
       "      <td>136456</td>\n",
       "      <td>NaN</td>\n",
       "      <td>was auch erklärt, warum körperlich schwächere frauen die stärkeren männer verletzen können.\\r\\ntrotzdem kann ein schlag von einem mann ohne diese schranke, an einer frau mehr anrichten, als umgekehrt der schlag einer frau,\\r\\npsychische gewalt ist immer auch teil der körperlichen, da wird abgewe...</td>\n",
       "      <td>online</td>\n",
       "      <td>ArgumentsUsed</td>\n",
       "      <td>NaN</td>\n",
       "      <td>NaN</td>\n",
       "      <td>NaN</td>\n",
       "      <td>NaN</td>\n",
       "      <td>NaN</td>\n",
       "      <td>NaN</td>\n",
       "      <td>SentimentNeutral</td>\n",
       "      <td>NaN</td>\n",
       "      <td>was auch erklärt, warum körperlich schwächere frauen die stärkeren männer verletzen können.\\r\\ntrotzdem kann ein schlag von einem mann ohne diese schranke, an einer frau mehr anrichten, als umgekehrt der schlag einer frau,\\r\\npsychische gewalt ist immer auch teil der körperlichen, da wird abgew...</td>\n",
       "      <td>online ArgumentsUsed       SentimentNeutral</td>\n",
       "    </tr>\n",
       "  </tbody>\n",
       "</table>\n",
       "</div>"
      ],
      "text/plain": [
       "   ID_Post Headline  \\\n",
       "0   432258      NaN   \n",
       "1   136446      NaN   \n",
       "2   136458      NaN   \n",
       "3   136457      NaN   \n",
       "4   136456      NaN   \n",
       "\n",
       "                                                                                                                                                                                                                                                                                                          Body  \\\n",
       "0                                                                                                                                                                                                              Das kann man nur mutmaßen, aber nicht erkennen. Könnten genauso gut einfach Dreckspritzer sein.   \n",
       "1                                                                                                                                                                                                                                                               Sorry für die verursachte Mühe der Löschungen.   \n",
       "2                                                                                                                                                                                                                                                  Witzig, dass der Poster selber nicht widersprochen hat. :-)   \n",
       "3                                                                                                                                                     Foggwulf und Mouilly haben es Ihnen ja schon erklärt und ihre richtige Interpretation dargelegt.\\r\\n\\r\\nAuch bei diesem Posting bitte wieder anwenden ;)   \n",
       "4  was auch erklärt, warum körperlich schwächere frauen die stärkeren männer verletzen können.\\r\\ntrotzdem kann ein schlag von einem mann ohne diese schranke, an einer frau mehr anrichten, als umgekehrt der schlag einer frau,\\r\\npsychische gewalt ist immer auch teil der körperlichen, da wird abgewe...   \n",
       "\n",
       "    Status  ArgumentsUsed Discriminating Inappropriate  OffTopic  \\\n",
       "0   online            NaN            NaN           NaN       NaN   \n",
       "1  deleted            NaN            NaN           NaN       NaN   \n",
       "2   online            NaN            NaN           NaN  OffTopic   \n",
       "3   online  ArgumentsUsed            NaN           NaN       NaN   \n",
       "4   online  ArgumentsUsed            NaN           NaN       NaN   \n",
       "\n",
       "  PersonalStories PossiblyFeedback  SentimentNegative  SentimentNeutral  \\\n",
       "0             NaN              NaN                NaN  SentimentNeutral   \n",
       "1             NaN              NaN  SentimentNegative               NaN   \n",
       "2             NaN              NaN                NaN  SentimentNeutral   \n",
       "3             NaN              NaN                NaN  SentimentNeutral   \n",
       "4             NaN              NaN                NaN  SentimentNeutral   \n",
       "\n",
       "  SentimentPositive  \\\n",
       "0               NaN   \n",
       "1               NaN   \n",
       "2               NaN   \n",
       "3               NaN   \n",
       "4               NaN   \n",
       "\n",
       "                                                                                                                                                                                                                                                                                                      HeadBody  \\\n",
       "0                                                                                                                                                                                                              Das kann man nur mutmaßen, aber nicht erkennen. Könnten genauso gut einfach Dreckspritzer sein.   \n",
       "1                                                                                                                                                                                                                                                               Sorry für die verursachte Mühe der Löschungen.   \n",
       "2                                                                                                                                                                                                                                                  Witzig, dass der Poster selber nicht widersprochen hat. :-)   \n",
       "3                                                                                                                                                     Foggwulf und Mouilly haben es Ihnen ja schon erklärt und ihre richtige Interpretation dargelegt.\\r\\n\\r\\nAuch bei diesem Posting bitte wieder anwenden ;)   \n",
       "4   was auch erklärt, warum körperlich schwächere frauen die stärkeren männer verletzen können.\\r\\ntrotzdem kann ein schlag von einem mann ohne diese schranke, an einer frau mehr anrichten, als umgekehrt der schlag einer frau,\\r\\npsychische gewalt ist immer auch teil der körperlichen, da wird abgew...   \n",
       "\n",
       "                                     new_labels  \n",
       "0               online        SentimentNeutral   \n",
       "1             deleted       SentimentNegative    \n",
       "2       online    OffTopic    SentimentNeutral   \n",
       "3  online ArgumentsUsed       SentimentNeutral   \n",
       "4  online ArgumentsUsed       SentimentNeutral   "
      ]
     },
     "execution_count": 2,
     "metadata": {},
     "output_type": "execute_result"
    }
   ],
   "source": [
    "#meta = pd.read_csv(\"df2.csv\", sep = '\\t')\n",
    "meta = pd.read_csv(\"dfxx.csv\", sep = '\\t')\n",
    "meta.head()"
   ]
  },
  {
   "cell_type": "code",
   "execution_count": null,
   "id": "085b0f4b-9a4f-4431-a8eb-c6f3b77679c3",
   "metadata": {},
   "outputs": [],
   "source": []
  },
  {
   "cell_type": "code",
   "execution_count": null,
   "id": "9a129a86-461f-4ae4-9ab0-3113d9e39181",
   "metadata": {},
   "outputs": [],
   "source": []
  },
  {
   "cell_type": "code",
   "execution_count": null,
   "id": "ec6dccad-9300-4426-9285-57753c1e301f",
   "metadata": {},
   "outputs": [],
   "source": []
  },
  {
   "cell_type": "code",
   "execution_count": null,
   "id": "4bada0a9-4b67-467e-ae7e-5695f4f0b68c",
   "metadata": {},
   "outputs": [],
   "source": []
  },
  {
   "cell_type": "code",
   "execution_count": null,
   "id": "9413d483-17db-49bd-9b1c-b4bedecd46e6",
   "metadata": {},
   "outputs": [],
   "source": []
  },
  {
   "cell_type": "code",
   "execution_count": null,
   "id": "07780f07-7f7e-4bc3-b188-1061de0ede4d",
   "metadata": {},
   "outputs": [],
   "source": []
  },
  {
   "cell_type": "code",
   "execution_count": 3,
   "id": "09c11eb7-5a52-445e-9daa-5b546c17ef66",
   "metadata": {},
   "outputs": [],
   "source": [
    "meta['ID_Post'] = meta['ID_Post'].astype(str)\n",
    "meta['HeadBody'] = meta['HeadBody'].astype(str)"
   ]
  },
  {
   "cell_type": "code",
   "execution_count": 4,
   "id": "4ad6fdd1-a890-4f1e-9927-f6d6153984a2",
   "metadata": {},
   "outputs": [],
   "source": [
    "# function for text cleaning \n",
    "def clean_text(text):\n",
    "    # remove backslash-apostrophe \n",
    "    text = re.sub(\"\\'\", \"\", text) \n",
    "    # remove everything except alphabets \n",
    "    text = re.sub(\"[^a-zA-Z]\",\" \",text) \n",
    "    # remove whitespaces \n",
    "    text = ' '.join(text.split()) \n",
    "    # convert text to lowercase \n",
    "    text = text.lower() \n",
    "    \n",
    "    return text"
   ]
  },
  {
   "cell_type": "code",
   "execution_count": 5,
   "id": "087f1fbe-61eb-4127-a8b0-7951035b2b08",
   "metadata": {},
   "outputs": [
    {
     "name": "stderr",
     "output_type": "stream",
     "text": [
      "[nltk_data] Downloading package punkt to\n",
      "[nltk_data]     C:\\Users\\Tariki\\AppData\\Roaming\\nltk_data...\n",
      "[nltk_data]   Package punkt is already up-to-date!\n",
      "[nltk_data] Downloading package stopwords to\n",
      "[nltk_data]     C:\\Users\\Tariki\\AppData\\Roaming\\nltk_data...\n",
      "[nltk_data]   Package stopwords is already up-to-date!\n"
     ]
    }
   ],
   "source": [
    "nltk.download('punkt')\n",
    "nltk.download('stopwords')\n",
    "\n",
    "stemmer = SnowballStemmer(\"german\")\n",
    "stop_words = set(stopwords.words(\"german\"))\n",
    "\n",
    "\n",
    "def clean_text(text, for_embedding=False):\n",
    "    \"\"\"\n",
    "        - remove any html tags (< /br> often found)\n",
    "        - Keep only ASCII + European Chars and whitespace, no digits\n",
    "        - remove single letter chars\n",
    "        - convert all whitespaces (tabs etc.) to single wspace\n",
    "        if not for embedding (but e.g. tdf-idf):\n",
    "        - all lowercase\n",
    "        - remove stopwords, punctuation and stemm\n",
    "    \"\"\"\n",
    "    RE_WSPACE = re.compile(r\"\\s+\", re.IGNORECASE)\n",
    "    RE_TAGS = re.compile(r\"<[^>]+>\")\n",
    "    RE_ASCII = re.compile(r\"[^A-Za-zÀ-ž ]\", re.IGNORECASE)\n",
    "    RE_SINGLECHAR = re.compile(r\"\\b[A-Za-zÀ-ž]\\b\", re.IGNORECASE)\n",
    "    if for_embedding:\n",
    "        # Keep punctuation\n",
    "        RE_ASCII = re.compile(r\"[^A-Za-zÀ-ž,.!? ]\", re.IGNORECASE)\n",
    "        RE_SINGLECHAR = re.compile(r\"\\b[A-Za-zÀ-ž,.!?]\\b\", re.IGNORECASE)\n",
    "\n",
    "    text = re.sub(RE_TAGS, \" \", text)\n",
    "    text = re.sub(RE_ASCII, \" \", text)\n",
    "    text = re.sub(RE_SINGLECHAR, \" \", text)\n",
    "    text = re.sub(RE_WSPACE, \" \", text)\n",
    "\n",
    "    word_tokens = word_tokenize(text)\n",
    "    words_tokens_lower = [word.lower() for word in word_tokens]\n",
    "    words_filtered = words_tokens_lower\n",
    "    text_clean = \" \".join(words_filtered)\n",
    "    return text_clean"
   ]
  },
  {
   "cell_type": "raw",
   "id": "ca8e8d21-780d-42a2-9afa-af24fec8bbaf",
   "metadata": {},
   "source": []
  },
  {
   "cell_type": "code",
   "execution_count": 6,
   "id": "a3313cf5-5849-42bd-a87d-153f8b40ec82",
   "metadata": {},
   "outputs": [],
   "source": [
    "meta['cleantext'] = meta['HeadBody'].apply(lambda x: clean_text(x))"
   ]
  },
  {
   "cell_type": "code",
   "execution_count": 7,
   "id": "ce6e08ea-9137-4df5-9a63-7e21c4512426",
   "metadata": {},
   "outputs": [
    {
     "data": {
      "text/plain": [
       "0                                                                                                                                                                                                                      das kann man nur mutmaßen aber nicht erkennen könnten genauso gut einfach dreckspritzer sein\n",
       "1                                                                                                                                                                                                                                                                     sorry für die verursachte mühe der löschungen\n",
       "2                                                                                                                                                                                                                                                             witzig dass der poster selber nicht widersprochen hat\n",
       "3                                                                                                                                                                     foggwulf und mouilly haben es ihnen ja schon erklärt und ihre richtige interpretation dargelegt auch bei diesem posting bitte wieder anwenden\n",
       "4       was auch erklärt warum körperlich schwächere frauen die stärkeren männer verletzen können trotzdem kann ein schlag von einem mann ohne diese schranke an einer frau mehr anrichten als umgekehrt der schlag einer frau psychische gewalt ist immer auch teil der körperlichen da wird abgewertet isolier...\n",
       "                                                                                                                                                           ...                                                                                                                                                     \n",
       "3594    das beste mittel gegen die angebliche hetze sind argumente dagegen das sehe ich aber ihnen nicht sie stricheln selbst alle postings rot die eine andere meinung ausdrücken und das war es schon wieder also beginnen sie über den inhalt jedes postings nachzudenken und dann antworten sie darauf mit a...\n",
       "3595                                                                                                                                                                                                                            frankreich und portugal haben ihnen angeboten sie aufzunehmen sie wollten also sskm\n",
       "3596                                                                                                                                                                                   video an sehen die stinkefinger sind schon ausgefahren http www oe at welt mazedonische polizei setzte erneut traenengas ein\n",
       "3597                                                                                                                                                                                                                                                 korrekte headline migranten versuchen erneut grenze zu stürmen\n",
       "3598                                                        wie man nur die wahrheit verdrehen kann nicht die mazedonische polizei am mittwoch erneut mit tränengas und blendgranaten gegen flüchtlinge vorgegangen sondern die flüchtlinge wollte unbefugt und mit gewalt in mazedonisches staatsgebiet eindringen\n",
       "Name: cleantext, Length: 3599, dtype: object"
      ]
     },
     "execution_count": 7,
     "metadata": {},
     "output_type": "execute_result"
    }
   ],
   "source": [
    "meta[\"cleantext\"]"
   ]
  },
  {
   "cell_type": "code",
   "execution_count": 8,
   "id": "38c20e7b-06be-4e92-b113-97ba6fbefd23",
   "metadata": {},
   "outputs": [
    {
     "data": {
      "image/png": "[encoded data removed]",
      "text/plain": [
       "<Figure size 864x1080 with 1 Axes>"
      ]
     },
     "metadata": {
      "needs_background": "light"
     },
     "output_type": "display_data"
    }
   ],
   "source": [
    "def freq_words(x, terms = 30): \n",
    "    all_words = ' '.join([text for text in x]) \n",
    "    all_words = all_words.split() \n",
    "    fdist = nltk.FreqDist(all_words) \n",
    "    words_df = pd.DataFrame({'word':list(fdist.keys()), 'count':list(fdist.values())}) \n",
    "  \n",
    "    # selecting top 20 most frequent words \n",
    "    d = words_df.nlargest(columns=\"count\", n = terms) \n",
    "  \n",
    "    # visualize words and frequencies\n",
    "    plt.figure(figsize=(12,15)) \n",
    "    ax = sns.barplot(data=d, x= \"count\", y = \"word\") \n",
    "    ax.set(ylabel = 'Word') \n",
    "    plt.show()\n",
    "\n",
    "#print 100 most frequent words \n",
    "freq_words(meta['cleantext'], 100)"
   ]
  },
  {
   "cell_type": "code",
   "execution_count": 9,
   "id": "8d184c66-fb16-4945-adfe-bfe33a31af69",
   "metadata": {},
   "outputs": [],
   "source": [
    "from nltk.corpus import stopwords\n",
    "stop_words = set(stopwords.words('german'))\n",
    "\n",
    "# function to remove stopwords\n",
    "def remove_stopwords(text):\n",
    "    no_stopword_text = [w for w in text.split() if not w in stop_words]\n",
    "    return ' '.join(no_stopword_text)\n",
    "\n",
    "meta['cleantext'] = meta['cleantext'].apply(lambda x: remove_stopwords(x))"
   ]
  },
  {
   "cell_type": "code",
   "execution_count": 10,
   "id": "f899fc15-8a63-4b7b-a87b-df85f9f30467",
   "metadata": {},
   "outputs": [
    {
     "data": {
      "image/png": "[encoded data removed]",
      "text/plain": [
       "<Figure size 864x1080 with 1 Axes>"
      ]
     },
     "metadata": {
      "needs_background": "light"
     },
     "output_type": "display_data"
    }
   ],
   "source": [
    "freq_words(meta['cleantext'], 50)"
   ]
  },
  {
   "cell_type": "code",
   "execution_count": 11,
   "id": "01c7e4a6-7786-4498-be18-e6703e111713",
   "metadata": {},
   "outputs": [
    {
     "data": {
      "text/plain": [
       "'online        SentimentNeutral '"
      ]
     },
     "execution_count": 11,
     "metadata": {},
     "output_type": "execute_result"
    }
   ],
   "source": [
    "meta['new_labels'][0]"
   ]
  },
  {
   "cell_type": "code",
   "execution_count": 12,
   "id": "40c9b947-d961-4f9d-b887-bbc83bde9161",
   "metadata": {},
   "outputs": [],
   "source": [
    "from sklearn.preprocessing import MultiLabelBinarizer\n",
    "\n",
    "multilabel_binarizer = MultiLabelBinarizer()\n",
    "multilabel_binarizer.fit(meta['new_labels'])\n",
    "\n",
    "# transform target variable\n",
    "y = multilabel_binarizer.transform(meta['new_labels'])"
   ]
  },
  {
   "cell_type": "code",
   "execution_count": 13,
   "id": "32882f7d-4623-4316-b777-0340a27d4064",
   "metadata": {},
   "outputs": [],
   "source": [
    "tfidf_vectorizer = TfidfVectorizer(max_df=0.7, max_features=200)"
   ]
  },
  {
   "cell_type": "code",
   "execution_count": 14,
   "id": "2c193439-758a-4b8b-a34b-33b01d76ab5b",
   "metadata": {},
   "outputs": [],
   "source": [
    "# split dataset into training and validation set\n",
    "xtrain, xval, ytrain, yval = train_test_split(meta['cleantext'], y, test_size=0.3, random_state=9)"
   ]
  },
  {
   "cell_type": "code",
   "execution_count": null,
   "id": "f6b994e4-4813-4fcc-b493-182f70b0ac52",
   "metadata": {},
   "outputs": [],
   "source": []
  },
  {
   "cell_type": "code",
   "execution_count": 15,
   "id": "3826db03-94a0-4c1d-a46a-bf840d86dc57",
   "metadata": {},
   "outputs": [],
   "source": [
    "# create TF-IDF features\n",
    "xtrain_tfidf = tfidf_vectorizer.fit_transform(xtrain)\n",
    "xval_tfidf = tfidf_vectorizer.transform(xval)"
   ]
  },
  {
   "cell_type": "code",
   "execution_count": 16,
   "id": "34d6950e-343f-42fe-85eb-543e45bafb10",
   "metadata": {},
   "outputs": [],
   "source": [
    "from sklearn.linear_model import LogisticRegression\n",
    "\n",
    "# Binary Relevance\n",
    "from sklearn.multiclass import OneVsRestClassifier\n",
    "\n",
    "# Performance metric\n",
    "from sklearn.metrics import f1_score"
   ]
  },
  {
   "cell_type": "code",
   "execution_count": 17,
   "id": "e216785b-1ca4-415d-9431-20529f12625c",
   "metadata": {},
   "outputs": [],
   "source": [
    "lr = LogisticRegression()\n",
    "clf = OneVsRestClassifier(lr)"
   ]
  },
  {
   "cell_type": "code",
   "execution_count": 18,
   "id": "6cc1504c-5026-4faa-bb13-aabab11b0201",
   "metadata": {},
   "outputs": [
    {
     "name": "stderr",
     "output_type": "stream",
     "text": [
      "C:\\ProgramData\\Anaconda3\\envs\\intro2nlp\\lib\\site-packages\\sklearn\\multiclass.py:77: UserWarning: Label 0 is present in all training examples.\n",
      "  warnings.warn(\n",
      "C:\\ProgramData\\Anaconda3\\envs\\intro2nlp\\lib\\site-packages\\sklearn\\multiclass.py:77: UserWarning: Label 8 is present in all training examples.\n",
      "  warnings.warn(\n",
      "C:\\ProgramData\\Anaconda3\\envs\\intro2nlp\\lib\\site-packages\\sklearn\\multiclass.py:77: UserWarning: Label 15 is present in all training examples.\n",
      "  warnings.warn(\n",
      "C:\\ProgramData\\Anaconda3\\envs\\intro2nlp\\lib\\site-packages\\sklearn\\multiclass.py:77: UserWarning: Label 18 is present in all training examples.\n",
      "  warnings.warn(\n",
      "C:\\ProgramData\\Anaconda3\\envs\\intro2nlp\\lib\\site-packages\\sklearn\\multiclass.py:77: UserWarning: Label 20 is present in all training examples.\n",
      "  warnings.warn(\n",
      "C:\\ProgramData\\Anaconda3\\envs\\intro2nlp\\lib\\site-packages\\sklearn\\multiclass.py:77: UserWarning: Label 21 is present in all training examples.\n",
      "  warnings.warn(\n",
      "C:\\ProgramData\\Anaconda3\\envs\\intro2nlp\\lib\\site-packages\\sklearn\\multiclass.py:77: UserWarning: Label 22 is present in all training examples.\n",
      "  warnings.warn(\n",
      "C:\\ProgramData\\Anaconda3\\envs\\intro2nlp\\lib\\site-packages\\sklearn\\multiclass.py:77: UserWarning: Label 27 is present in all training examples.\n",
      "  warnings.warn(\n"
     ]
    },
    {
     "data": {
      "text/html": [
       "<style>#sk-container-id-1 {color: black;background-color: white;}#sk-container-id-1 pre{padding: 0;}#sk-container-id-1 div.sk-toggleable {background-color: white;}#sk-container-id-1 label.sk-toggleable__label {cursor: pointer;display: block;width: 100%;margin-bottom: 0;padding: 0.3em;box-sizing: border-box;text-align: center;}#sk-container-id-1 label.sk-toggleable__label-arrow:before {content: \"▸\";float: left;margin-right: 0.25em;color: #696969;}#sk-container-id-1 label.sk-toggleable__label-arrow:hover:before {color: black;}#sk-container-id-1 div.sk-estimator:hover label.sk-toggleable__label-arrow:before {color: black;}#sk-container-id-1 div.sk-toggleable__content {max-height: 0;max-width: 0;overflow: hidden;text-align: left;background-color: #f0f8ff;}#sk-container-id-1 div.sk-toggleable__content pre {margin: 0.2em;color: black;border-radius: 0.25em;background-color: #f0f8ff;}#sk-container-id-1 input.sk-toggleable__control:checked~div.sk-toggleable__content {max-height: 200px;max-width: 100%;overflow: auto;}#sk-container-id-1 input.sk-toggleable__control:checked~label.sk-toggleable__label-arrow:before {content: \"▾\";}#sk-container-id-1 div.sk-estimator input.sk-toggleable__control:checked~label.sk-toggleable__label {background-color: #d4ebff;}#sk-container-id-1 div.sk-label input.sk-toggleable__control:checked~label.sk-toggleable__label {background-color: #d4ebff;}#sk-container-id-1 input.sk-hidden--visually {border: 0;clip: rect(1px 1px 1px 1px);clip: rect(1px, 1px, 1px, 1px);height: 1px;margin: -1px;overflow: hidden;padding: 0;position: absolute;width: 1px;}#sk-container-id-1 div.sk-estimator {font-family: monospace;background-color: #f0f8ff;border: 1px dotted black;border-radius: 0.25em;box-sizing: border-box;margin-bottom: 0.5em;}#sk-container-id-1 div.sk-estimator:hover {background-color: #d4ebff;}#sk-container-id-1 div.sk-parallel-item::after {content: \"\";width: 100%;border-bottom: 1px solid gray;flex-grow: 1;}#sk-container-id-1 div.sk-label:hover label.sk-toggleable__label {background-color: #d4ebff;}#sk-container-id-1 div.sk-serial::before {content: \"\";position: absolute;border-left: 1px solid gray;box-sizing: border-box;top: 0;bottom: 0;left: 50%;z-index: 0;}#sk-container-id-1 div.sk-serial {display: flex;flex-direction: column;align-items: center;background-color: white;padding-right: 0.2em;padding-left: 0.2em;position: relative;}#sk-container-id-1 div.sk-item {position: relative;z-index: 1;}#sk-container-id-1 div.sk-parallel {display: flex;align-items: stretch;justify-content: center;background-color: white;position: relative;}#sk-container-id-1 div.sk-item::before, #sk-container-id-1 div.sk-parallel-item::before {content: \"\";position: absolute;border-left: 1px solid gray;box-sizing: border-box;top: 0;bottom: 0;left: 50%;z-index: -1;}#sk-container-id-1 div.sk-parallel-item {display: flex;flex-direction: column;z-index: 1;position: relative;background-color: white;}#sk-container-id-1 div.sk-parallel-item:first-child::after {align-self: flex-end;width: 50%;}#sk-container-id-1 div.sk-parallel-item:last-child::after {align-self: flex-start;width: 50%;}#sk-container-id-1 div.sk-parallel-item:only-child::after {width: 0;}#sk-container-id-1 div.sk-dashed-wrapped {border: 1px dashed gray;margin: 0 0.4em 0.5em 0.4em;box-sizing: border-box;padding-bottom: 0.4em;background-color: white;}#sk-container-id-1 div.sk-label label {font-family: monospace;font-weight: bold;display: inline-block;line-height: 1.2em;}#sk-container-id-1 div.sk-label-container {text-align: center;}#sk-container-id-1 div.sk-container {/* jupyter's `normalize.less` sets `[hidden] { display: none; }` but bootstrap.min.css set `[hidden] { display: none !important; }` so we also need the `!important` here to be able to override the default hidden behavior on the sphinx rendered scikit-learn.org. See: https://github.com/scikit-learn/scikit-learn/issues/21755 */display: inline-block !important;position: relative;}#sk-container-id-1 div.sk-text-repr-fallback {display: none;}</style><div id=\"sk-container-id-1\" class=\"sk-top-container\"><div class=\"sk-text-repr-fallback\"><pre>OneVsRestClassifier(estimator=LogisticRegression())</pre><b>In a Jupyter environment, please rerun this cell to show the HTML representation or trust the notebook. <br />On GitHub, the HTML representation is unable to render, please try loading this page with nbviewer.org.</b></div><div class=\"sk-container\" hidden><div class=\"sk-item sk-dashed-wrapped\"><div class=\"sk-label-container\"><div class=\"sk-label sk-toggleable\"><input class=\"sk-toggleable__control sk-hidden--visually\" id=\"sk-estimator-id-1\" type=\"checkbox\" ><label for=\"sk-estimator-id-1\" class=\"sk-toggleable__label sk-toggleable__label-arrow\">OneVsRestClassifier</label><div class=\"sk-toggleable__content\"><pre>OneVsRestClassifier(estimator=LogisticRegression())</pre></div></div></div><div class=\"sk-parallel\"><div class=\"sk-parallel-item\"><div class=\"sk-item\"><div class=\"sk-label-container\"><div class=\"sk-label sk-toggleable\"><input class=\"sk-toggleable__control sk-hidden--visually\" id=\"sk-estimator-id-2\" type=\"checkbox\" ><label for=\"sk-estimator-id-2\" class=\"sk-toggleable__label sk-toggleable__label-arrow\">estimator: LogisticRegression</label><div class=\"sk-toggleable__content\"><pre>LogisticRegression()</pre></div></div></div><div class=\"sk-serial\"><div class=\"sk-item\"><div class=\"sk-estimator sk-toggleable\"><input class=\"sk-toggleable__control sk-hidden--visually\" id=\"sk-estimator-id-3\" type=\"checkbox\" ><label for=\"sk-estimator-id-3\" class=\"sk-toggleable__label sk-toggleable__label-arrow\">LogisticRegression</label><div class=\"sk-toggleable__content\"><pre>LogisticRegression()</pre></div></div></div></div></div></div></div></div></div></div>"
      ],
      "text/plain": [
       "OneVsRestClassifier(estimator=LogisticRegression())"
      ]
     },
     "execution_count": 18,
     "metadata": {},
     "output_type": "execute_result"
    }
   ],
   "source": [
    "# fit model on train data\n",
    "clf.fit(xtrain_tfidf, ytrain)"
   ]
  },
  {
   "cell_type": "code",
   "execution_count": 19,
   "id": "b1bc85e0-cf37-44d8-84ed-b227537a7151",
   "metadata": {},
   "outputs": [],
   "source": [
    "# make predictions for validation set\n",
    "y_pred = clf.predict(xval_tfidf)"
   ]
  },
  {
   "cell_type": "code",
   "execution_count": 20,
   "id": "17d69752-c623-48d0-b2f9-1fee52c1064d",
   "metadata": {},
   "outputs": [
    {
     "data": {
      "text/plain": [
       "array([[1, 0, 0, ..., 0, 1, 0],\n",
       "       [1, 0, 0, ..., 0, 0, 0],\n",
       "       [1, 0, 0, ..., 0, 0, 0],\n",
       "       ...,\n",
       "       [1, 0, 0, ..., 0, 1, 0],\n",
       "       [1, 0, 0, ..., 0, 0, 0],\n",
       "       [1, 0, 0, ..., 1, 0, 0]])"
      ]
     },
     "execution_count": 20,
     "metadata": {},
     "output_type": "execute_result"
    }
   ],
   "source": [
    "y_pred"
   ]
  },
  {
   "cell_type": "code",
   "execution_count": 21,
   "id": "3053b66e-956d-4294-a4fc-1b16b890daee",
   "metadata": {},
   "outputs": [
    {
     "data": {
      "text/plain": [
       "array([1, 0, 0, 0, 0, 1, 0, 0, 1, 0, 0, 1, 0, 0, 1, 1, 0, 1, 1, 0, 1, 1,\n",
       "       1, 1, 0, 1, 0, 1, 0, 0, 0])"
      ]
     },
     "execution_count": 21,
     "metadata": {},
     "output_type": "execute_result"
    }
   ],
   "source": [
    "y_pred[3]"
   ]
  },
  {
   "cell_type": "code",
   "execution_count": 22,
   "id": "033000ec-df45-48b7-8355-f5d5655dca20",
   "metadata": {},
   "outputs": [
    {
     "data": {
      "text/plain": [
       "(' ', 'N', 'S', 'a', 'e', 'g', 'i', 'l', 'm', 'n', 'o', 'r', 't', 'v')"
      ]
     },
     "execution_count": 22,
     "metadata": {},
     "output_type": "execute_result"
    }
   ],
   "source": [
    "multilabel_binarizer.inverse_transform(y_pred)[0]"
   ]
  },
  {
   "cell_type": "code",
   "execution_count": 23,
   "id": "49498402-10e4-4542-a33c-150369319b7a",
   "metadata": {},
   "outputs": [
    {
     "data": {
      "text/plain": [
       "0.8387708050405837"
      ]
     },
     "execution_count": 23,
     "metadata": {},
     "output_type": "execute_result"
    }
   ],
   "source": [
    "# evaluate performance\n",
    "f1_score(yval, y_pred, average=\"micro\")"
   ]
  },
  {
   "cell_type": "code",
   "execution_count": null,
   "id": "b54688ec-32ae-4336-8830-76dd8a941d6d",
   "metadata": {},
   "outputs": [],
   "source": []
  },
  {
   "cell_type": "code",
   "execution_count": 24,
   "id": "5a4f77be-ff41-41cf-adf2-ac3368164507",
   "metadata": {},
   "outputs": [],
   "source": [
    "# predict probabilities\n",
    "y_pred_prob = clf.predict_proba(xval_tfidf)"
   ]
  },
  {
   "cell_type": "code",
   "execution_count": null,
   "id": "127a0231-67c9-4100-a2be-4e3e83397d12",
   "metadata": {},
   "outputs": [],
   "source": []
  },
  {
   "cell_type": "code",
   "execution_count": null,
   "id": "a12fb7cb-b3f3-44f6-9fa8-1ba2b1aa3171",
   "metadata": {},
   "outputs": [],
   "source": []
  },
  {
   "cell_type": "code",
   "execution_count": 25,
   "id": "2cdcb508-0c70-411b-ab94-714f5ed06160",
   "metadata": {},
   "outputs": [],
   "source": [
    "def infer_tags(q):\n",
    "    q = clean_text(q)\n",
    "    q = remove_stopwords(q)\n",
    "    q_vec = tfidf_vectorizer.transform([q])\n",
    "    q_pred = clf.predict(q_vec)\n",
    "    return multilabel_binarizer.inverse_transform(q_pred)"
   ]
  },
  {
   "cell_type": "code",
   "execution_count": null,
   "id": "2bfa24a3-d6d9-4181-b2bc-0f75dcda2aaa",
   "metadata": {},
   "outputs": [],
   "source": []
  },
  {
   "cell_type": "code",
   "execution_count": 26,
   "id": "3f2a25ae-4fb9-4716-9579-63d56293e88d",
   "metadata": {},
   "outputs": [
    {
     "name": "stdout",
     "output_type": "stream",
     "text": [
      "Kommentar:   aha. ihre erfahrung ist also, dass jemand einen blog vorstellt, etwas als thema anspricht und dies dann nicht mehr erwähnt. das ist ihnen scheinbar schon so oft passiert, dass sie grundsätzlich eher erwarten, dies würde passieren, anstatt, wie das wohl die meisten menschen tun würden, davon auszugehen, dass die autorin weiss, worüber sie bloggen wird.\n",
      "\n",
      "sie tun dies trotz der tatsache, dass der ursprüngliche kommentar bereits 2 links zu untersuchungen einer durchaus unverdächtigen institution enthält. man könnte über die interpretation dieser studien diskutieren, aber wenn sie die existenz der studien nicht zur kenntnis nehmen wollen, muss ich wohl vermuten, das sich das bei ihnen nicht auszahlen wird. \n",
      "Predicted Label:  [(' ', 'N', 'S', 'a', 'e', 'g', 'i', 'l', 'm', 'n', 'o', 'r', 't')]\n",
      "Actual Label:  deleted       SentimentNegative   \n",
      "\n",
      "Kommentar:  Ich finde die Naivität bei diesem Thema erschreckend. Die Geschichten klingen ha immer herzerwärmend , halten aber meist einem reality-check nicht Stand... \n",
      "Predicted Label:  [(' ', 'N', 'S', 'a', 'd', 'e', 'g', 'i', 'l', 'm', 'n', 'o', 'r', 's', 't', 'u')]\n",
      "Actual Label:  online    OffTopic   SentimentNegative   \n",
      "\n",
      "Kommentar:   ...schweres Sprache.... \n",
      "Predicted Label:  [(' ', 'N', 'S', 'a', 'e', 'i', 'l', 'm', 'n', 'o', 't')]\n",
      "Actual Label:  online        SentimentNeutral  \n",
      "\n",
      "Kommentar:  Das verlässlichste Indiz dafür dass Frau Hausberger recht hat, sind die die gequält weinerlichen Reaktionen der Y-Chromosom-Abteilung.\n",
      "\n",
      "Themen, die ich für irrelevant halte, bzw. die mir wurscht sind, behandle ich anders. Dass aber verlässlich wutentbrannte Reaktionen unter jedem Artikel und nach jeder Wortmeldung in denen das Wort \"Gender\" vorkommt erscheinen lässt vermuten, dass den armen betroffenen Männern allesamt mit Gewalt ein Binnen-I in den Allerwertesten gepflanzt wurde, was halt weh tut und Schmerzensschreie erklärt.\n",
      "\n",
      "Könnte natürlich auch sein, dass immer noch etwas faul ist, im Staate Dänemark und Wespennester reagieren, wie Wespennester eben reagieren, wenn man reinsticht. \n",
      "Predicted Label:  [(' ', 'N', 'S', 'a', 'e', 'g', 'i', 'l', 'm', 'n', 'o', 'r', 't', 'u')]\n",
      "Actual Label:  deleted  Discriminating     SentimentNegative   \n",
      "\n",
      "Kommentar:   ... sondern auch gegen die gesetze, und deswegen sitzt er auch im gefaengnis. \n",
      "Predicted Label:  [(' ', 'N', 'S', 'a', 'e', 'g', 'i', 'l', 'm', 'n', 'o', 'r', 't')]\n",
      "Actual Label:  online ArgumentsUsed       SentimentNeutral  \n",
      "\n"
     ]
    }
   ],
   "source": [
    "for i in range(5): \n",
    "    k = xval.sample(1).index[0] \n",
    "    print(\"Kommentar: \", meta['HeadBody'][k], \"\\nPredicted Label: \", infer_tags(xval[k])), print(\"Actual Label: \",meta['new_labels'][k], \"\\n\")"
   ]
  },
  {
   "cell_type": "code",
   "execution_count": null,
   "id": "3fa223e8-78fe-4472-99f6-de2a31d5ce0a",
   "metadata": {},
   "outputs": [],
   "source": []
  },
  {
   "cell_type": "code",
   "execution_count": null,
   "id": "f113a2e7-c35e-4e4e-bda0-66d9f97ffdeb",
   "metadata": {},
   "outputs": [],
   "source": []
  },
  {
   "cell_type": "code",
   "execution_count": null,
   "id": "08cbc7f8-f7d8-44b8-a718-99c1558140bf",
   "metadata": {},
   "outputs": [],
   "source": []
  }
 ],
 "metadata": {
  "kernelspec": {
   "display_name": "Python 3 (ipykernel)",
   "language": "python",
   "name": "python3"
  },
  "language_info": {
   "codemirror_mode": {
    "name": "ipython",
    "version": 3
   },
   "file_extension": ".py",
   "mimetype": "text/x-python",
   "name": "python",
   "nbconvert_exporter": "python",
   "pygments_lexer": "ipython3",
   "version": "3.8.13"
  }
 },
 "nbformat": 4,
 "nbformat_minor": 5
}
