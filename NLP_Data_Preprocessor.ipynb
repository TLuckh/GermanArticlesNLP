{
 "cells": [
  {
   "cell_type": "code",
   "execution_count": 29,
   "outputs": [],
   "source": [
    "# Builds a database corpus_NLP_preprocessed, which contains a table for each label containing entries\n",
    "# (ID_Post, Word-Embeding-Array of text, Value-of-label)\n",
    "# Important: To read this database, you need to read the array type from the database, or else SQL won't\n",
    "# know what that is, i.e. call the connection using\n",
    "# con = sqlite3.connect(\"corpus_NLP_preprocessed\", detect_types=sqlite3.PARSE_DECLTYPES)\n",
    "\n",
    "# IMPORTANT: You have to manually transfer the Table 'Posts' from corpus.sqlite3\n",
    "# to corpus_NLP_preprocessed.sqlite3\n",
    "\n",
    "\n",
    "import spacy\n",
    "import sqlite3\n",
    "import pandas as pd\n",
    "import numpy as np\n",
    "import io\n",
    "\n",
    "def adapt_array(arr):\n",
    "    \"\"\"\n",
    "    http://stackoverflow.com/a/31312102/190597 (SoulNibbler)\n",
    "    \"\"\"\n",
    "    out = io.BytesIO()\n",
    "    np.save(out, arr)\n",
    "    out.seek(0)\n",
    "    return sqlite3.Binary(out.read())\n",
    "\n",
    "def convert_array(text):\n",
    "    out = io.BytesIO(text)\n",
    "    out.seek(0)\n",
    "    return np.load(out)\n",
    "\n",
    "\n",
    "# Converts np.array to TEXT when inserting\n",
    "sqlite3.register_adapter(np.ndarray, adapt_array)\n",
    "\n",
    "# Converts TEXT to np.array when selecting\n",
    "sqlite3.register_converter(\"array\", convert_array)\n",
    "\n",
    "x = np.arange(12).reshape(2,6)\n",
    "\n",
    "con = sqlite3.connect(\"corpus_NLP_preprocessed\", detect_types=sqlite3.PARSE_DECLTYPES)\n",
    "cnx = con.cursor()\n",
    "\n",
    "con_old_db =  sqlite3.connect(\"corpus.sqlite3\")\n",
    "\n",
    "\n",
    "nlp = spacy.load(\"de_core_news_lg\")\n",
    "\n"
   ],
   "metadata": {
    "collapsed": false,
    "pycharm": {
     "name": "#%%\n"
    }
   }
  },
  {
   "cell_type": "code",
   "execution_count": 30,
   "outputs": [],
   "source": [
    "def getLabeledPart(label):\n",
    "    \"\"\"\n",
    "\n",
    "    :param label: Das Label, so dass wir alle Posts auswählen, bei denen dieses Label gesetzt ist\n",
    "    :return: Ein DataFrame mit dem Index ID_Post (als 0. Spalte) und den Spalten 'Text' sowie 'Value'.\n",
    "             'Value' besagt hierbei für jeden Post, ob das Label zutrifft oder nicht (1 oder 0)\n",
    "    \"\"\"\n",
    "    value_count = pd.read_sql_query(\"SELECT * \"\n",
    "                                    \"FROM Annotations_consolidated \"\n",
    "                                    \"WHERE Category = '{}'\".format(label),con_old_db).shape[0]\n",
    "\n",
    "    # Wir holen uns alle Posts, die gemäß dem Parameter label gelabeled sind\n",
    "    wanted_join_table = pd.read_sql_query(\n",
    "        \"Select ID_Post, Headline, Body, Value \"\n",
    "        \"FROM Posts INNER JOIN Annotations_consolidated USING(ID_Post)\"\n",
    "        \"WHERE Annotations_consolidated.Category = '{}'\".format(label),con_old_db)\n",
    "\n",
    "    assert wanted_join_table.shape[0] == value_count\n",
    "\n",
    "    # Setzen ID_Post als Index des DataFrames\n",
    "    wanted_join_table = wanted_join_table.set_index(\"ID_Post\")\n",
    "\n",
    "    # Fusen von Headline & Body\n",
    "    for row_ID, cur_row in wanted_join_table.iterrows():\n",
    "        headline = cur_row[\"Headline\"]\n",
    "        body = cur_row[\"Body\"]\n",
    "        if not headline:\n",
    "            wanted_join_table.loc[row_ID,\"Text\"] = cur_row[\"Body\"]\n",
    "        elif not body:\n",
    "            wanted_join_table.loc[row_ID,\"Text\"] = cur_row[\"Headline\"]\n",
    "        else:\n",
    "            wanted_join_table.loc[row_ID,\"Text\"] = cur_row[\"Headline\"] +\"\\n\"+ cur_row[\"Body\"]\n",
    "\n",
    "    wanted_join_table = wanted_join_table.drop(\"Headline\",axis=1).drop(\"Body\",axis=1)\n",
    "\n",
    "    return wanted_join_table\n"
   ],
   "metadata": {
    "collapsed": false,
    "pycharm": {
     "name": "#%%\n"
    }
   }
  },
  {
   "cell_type": "code",
   "execution_count": 31,
   "outputs": [],
   "source": [
    "labels = [\"ArgumentsUsed\",\"Discriminating\",\"Inappropriate\",\"OffTopic\",\"PersonalStories\",\"PossiblyFeedback\",\"SentimentNegative\",\"SentimentNeutral\",\"SentimentPositive\"]\n",
    "\n"
   ],
   "metadata": {
    "collapsed": false,
    "pycharm": {
     "name": "#%%\n"
    }
   }
  },
  {
   "cell_type": "code",
   "execution_count": 32,
   "outputs": [],
   "source": [
    "# table_names = pd.read_sql_query(\"SELECT * from sqlite_master\", con)\n",
    "#\n",
    "# for label in labels:\n",
    "#     if not label in table_names[[\"name\"]].values:\n",
    "#         cnx.execute(\"\"\"\n",
    "#         drop table {0}\n",
    "#         \"\"\".format(label))\n"
   ],
   "metadata": {
    "collapsed": false,
    "pycharm": {
     "name": "#%%\n"
    }
   }
  },
  {
   "cell_type": "markdown",
   "source": [],
   "metadata": {
    "collapsed": false,
    "pycharm": {
     "name": "#%% md\n"
    }
   }
  },
  {
   "cell_type": "code",
   "execution_count": null,
   "outputs": [],
   "source": [
    "# Written so it is executed only once. If during a run an error occurs, reset all tables\n",
    "# (commented out code in last cell)\n",
    "from sqlite3 import IntegrityError\n",
    "\n",
    "table_names = pd.read_sql_query(\"SELECT * from sqlite_master\", con)\n",
    "for label in labels:\n",
    "    if not label in table_names[[\"name\"]].values:\n",
    "        cnx.execute(\"\"\"\n",
    "        create table {0}\n",
    "        (\n",
    "            ID_Post  integer\n",
    "        constraint {0}_pk\n",
    "        primary key,\n",
    "        Text_Array array,\n",
    "        Value    integer\n",
    "        );\n",
    "        \"\"\".format(label))\n",
    "\n",
    "    for label in labels:\n",
    "        # Table_Join holen:\n",
    "        joined_table = getLabeledPart(label)\n",
    "\n",
    "        for index, element in joined_table[[\"Text\"]].iterrows():\n",
    "            vector = nlp(element[\"Text\"]).vector\n",
    "            if (vector.shape != (300,)):\n",
    "                vector = vector.reshape((300,))\n",
    "\n",
    "            numpy_vector = np.column_stack(vector)\n",
    "            try:\n",
    "                cnx.execute(\"insert into {} (ID_Post,Text_Array,Value) values (?,?,?)\"\n",
    "                            .format(label)\n",
    "                            ,(index,numpy_vector,int(joined_table.loc[index,\"Value\"]),))\n",
    "            except IntegrityError:\n",
    "                print(index)\n",
    "            con.commit()\n",
    "\n",
    "\n",
    "\n",
    "\n",
    "\n",
    "\n"
   ],
   "metadata": {
    "collapsed": false,
    "pycharm": {
     "name": "#%%\n"
    }
   }
  },
  {
   "cell_type": "code",
   "execution_count": 33,
   "outputs": [],
   "source": [
    "# Fixing the saving of the value as int64 - does nothing if the value is already correctly saved as int.\n",
    "\n",
    "int64_for_1 = b'\\x01\\x00\\x00\\x00\\x00\\x00\\x00\\x00'\n",
    "int64_for_0 = b'\\x00\\x00\\x00\\x00\\x00\\x00\\x00\\x00'\n",
    "\n",
    "for label in labels:\n",
    "    cnx.execute(\"\"\"\n",
    "    UPDATE {}\n",
    "SET Value = 0\n",
    "WHERE Value = ?;\"\"\".format(label),(int64_for_0,))\n",
    "    con.commit()\n",
    "\n",
    "for label in labels:\n",
    "    cnx.execute(\"\"\"\n",
    "    UPDATE {}\n",
    "SET Value = 1\n",
    "WHERE Value = ?;\"\"\".format(label),(int64_for_0,))\n",
    "    con.commit()\n"
   ],
   "metadata": {
    "collapsed": false,
    "pycharm": {
     "name": "#%%\n"
    }
   }
  },
  {
   "cell_type": "code",
   "execution_count": 36,
   "outputs": [],
   "source": [
    "con.close()"
   ],
   "metadata": {
    "collapsed": false,
    "pycharm": {
     "name": "#%%\n"
    }
   }
  },
  {
   "cell_type": "code",
   "execution_count": 60,
   "outputs": [],
   "source": [
    "con = sqlite3.connect(\"corpus_NLP_preprocessed\", detect_types=sqlite3.PARSE_DECLTYPES)\n",
    "\n"
   ],
   "metadata": {
    "collapsed": false,
    "pycharm": {
     "name": "#%%\n"
    }
   }
  },
  {
   "cell_type": "code",
   "execution_count": 35,
   "outputs": [
    {
     "data": {
      "text/plain": "      ID_Post                                         Text_Array  Value\n0        3326  [[0.8686386, -1.2682943, 0.29122144, -2.601798...      0\n1        5321  [[2.5961683, -0.45668802, -0.6874493, -0.39244...      0\n2        5590  [[1.2644377, -0.07373819, 0.40302694, -1.30055...      0\n3        6015  [[1.7140241, -0.8711243, -0.9298902, -0.980474...      1\n4        8213  [[4.1509, -1.8794401, 1.2093123, 0.3584888, -5...      0\n...       ...                                                ...    ...\n3594  1004115  [[1.0525885, 0.12252, -0.66452307, -0.7557486,...      0\n3595  1004189  [[2.0198832, -0.85422903, 0.27278438, -1.14722...      0\n3596  1004571  [[1.1416737, -0.0017574765, -0.676475, -0.1457...      0\n3597  1006462  [[1.5501649, -0.777564, -0.1885027, -1.0172104...      0\n3598  1006960  [[2.2467673, -1.2253281, -0.78895366, -0.44038...      0\n\n[3599 rows x 3 columns]",
      "text/html": "<div>\n<style scoped>\n    .dataframe tbody tr th:only-of-type {\n        vertical-align: middle;\n    }\n\n    .dataframe tbody tr th {\n        vertical-align: top;\n    }\n\n    .dataframe thead th {\n        text-align: right;\n    }\n</style>\n<table border=\"1\" class=\"dataframe\">\n  <thead>\n    <tr style=\"text-align: right;\">\n      <th></th>\n      <th>ID_Post</th>\n      <th>Text_Array</th>\n      <th>Value</th>\n    </tr>\n  </thead>\n  <tbody>\n    <tr>\n      <th>0</th>\n      <td>3326</td>\n      <td>[[0.8686386, -1.2682943, 0.29122144, -2.601798...</td>\n      <td>0</td>\n    </tr>\n    <tr>\n      <th>1</th>\n      <td>5321</td>\n      <td>[[2.5961683, -0.45668802, -0.6874493, -0.39244...</td>\n      <td>0</td>\n    </tr>\n    <tr>\n      <th>2</th>\n      <td>5590</td>\n      <td>[[1.2644377, -0.07373819, 0.40302694, -1.30055...</td>\n      <td>0</td>\n    </tr>\n    <tr>\n      <th>3</th>\n      <td>6015</td>\n      <td>[[1.7140241, -0.8711243, -0.9298902, -0.980474...</td>\n      <td>1</td>\n    </tr>\n    <tr>\n      <th>4</th>\n      <td>8213</td>\n      <td>[[4.1509, -1.8794401, 1.2093123, 0.3584888, -5...</td>\n      <td>0</td>\n    </tr>\n    <tr>\n      <th>...</th>\n      <td>...</td>\n      <td>...</td>\n      <td>...</td>\n    </tr>\n    <tr>\n      <th>3594</th>\n      <td>1004115</td>\n      <td>[[1.0525885, 0.12252, -0.66452307, -0.7557486,...</td>\n      <td>0</td>\n    </tr>\n    <tr>\n      <th>3595</th>\n      <td>1004189</td>\n      <td>[[2.0198832, -0.85422903, 0.27278438, -1.14722...</td>\n      <td>0</td>\n    </tr>\n    <tr>\n      <th>3596</th>\n      <td>1004571</td>\n      <td>[[1.1416737, -0.0017574765, -0.676475, -0.1457...</td>\n      <td>0</td>\n    </tr>\n    <tr>\n      <th>3597</th>\n      <td>1006462</td>\n      <td>[[1.5501649, -0.777564, -0.1885027, -1.0172104...</td>\n      <td>0</td>\n    </tr>\n    <tr>\n      <th>3598</th>\n      <td>1006960</td>\n      <td>[[2.2467673, -1.2253281, -0.78895366, -0.44038...</td>\n      <td>0</td>\n    </tr>\n  </tbody>\n</table>\n<p>3599 rows × 3 columns</p>\n</div>"
     },
     "execution_count": 35,
     "metadata": {},
     "output_type": "execute_result"
    }
   ],
   "source": [
    "pd.read_sql_query(\"SELECT* FROM Inappropriate \",con)"
   ],
   "metadata": {
    "collapsed": false,
    "pycharm": {
     "name": "#%%\n"
    }
   }
  },
  {
   "cell_type": "code",
   "execution_count": null,
   "outputs": [],
   "source": [],
   "metadata": {
    "collapsed": false,
    "pycharm": {
     "name": "#%%\n"
    }
   }
  },
  {
   "cell_type": "code",
   "execution_count": 24,
   "outputs": [
    {
     "data": {
      "text/plain": "b'\\x01\\x00\\x00\\x00\\x00\\x00\\x00\\x00'"
     },
     "execution_count": 24,
     "metadata": {},
     "output_type": "execute_result"
    }
   ],
   "source": [
    "pd.read_sql_query(\"SELECT* FROM Discriminating\",con).loc[762,\"Value\"]"
   ],
   "metadata": {
    "collapsed": false,
    "pycharm": {
     "name": "#%%\n"
    }
   }
  },
  {
   "cell_type": "code",
   "execution_count": null,
   "outputs": [],
   "source": [],
   "metadata": {
    "collapsed": false,
    "pycharm": {
     "name": "#%%\n"
    }
   }
  }
 ],
 "metadata": {
  "kernelspec": {
   "display_name": "Python 3",
   "language": "python",
   "name": "python3"
  },
  "language_info": {
   "codemirror_mode": {
    "name": "ipython",
    "version": 2
   },
   "file_extension": ".py",
   "mimetype": "text/x-python",
   "name": "python",
   "nbconvert_exporter": "python",
   "pygments_lexer": "ipython2",
   "version": "2.7.6"
  }
 },
 "nbformat": 4,
 "nbformat_minor": 0
}