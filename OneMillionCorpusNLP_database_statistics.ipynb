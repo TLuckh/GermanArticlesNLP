{
 "cells": [
  {
   "cell_type": "code",
   "execution_count": 1,
   "outputs": [],
   "source": [
    "import _sqlite3\n",
    "import matplotlib\n",
    "import pandas as pd\n",
    "import numpy as np\n",
    "import spacy\n",
    "from sklearn.metrics import ConfusionMatrixDisplay\n",
    "from sklearn.model_selection import train_test_split\n",
    "from sklearn.feature_extraction.text import CountVectorizer, TfidfVectorizer\n",
    "from sklearn import svm, naive_bayes\n",
    "import sklearn\n",
    "from sklearn.neural_network import MLPClassifier\n",
    "import matplotlib.pyplot as plt\n",
    "from warnings import simplefilter\n",
    "from sklearn.exceptions import ConvergenceWarning"
   ],
   "metadata": {
    "collapsed": false,
    "pycharm": {
     "name": "#%%\n"
    }
   }
  },
  {
   "cell_type": "code",
   "execution_count": 2,
   "outputs": [],
   "source": [
    "\n",
    "nlp = spacy.load(\"de_core_news_md\")\n",
    "cnx = _sqlite3.connect(\"corpus.sqlite3\")\n"
   ],
   "metadata": {
    "collapsed": false,
    "pycharm": {
     "name": "#%%\n"
    }
   }
  },
  {
   "cell_type": "code",
   "execution_count": 3,
   "outputs": [],
   "source": [
    "labels = [\"ArgumentsUsed\",\"Discriminating\",\"Inappropriate\",\"OffTopic\",\"PersonalStories\",\"PossiblyFeedback\",\"SentimentNegative\",\"SentimentNeutral\",\"SentimentPositive\"]\n",
    "\n",
    "label_map = {y:x for (x,y) in enumerate(labels)}"
   ],
   "metadata": {
    "collapsed": false,
    "pycharm": {
     "name": "#%%\n"
    }
   }
  },
  {
   "cell_type": "code",
   "execution_count": 4,
   "outputs": [
    {
     "data": {
      "text/plain": "       ID_Post\n0           79\n1           81\n2          132\n3          134\n4          139\n...        ...\n40562  1006960\n40563  1006960\n40564  1006960\n40565  1010868\n40566  1010997\n\n[40567 rows x 1 columns]",
      "text/html": "<div>\n<style scoped>\n    .dataframe tbody tr th:only-of-type {\n        vertical-align: middle;\n    }\n\n    .dataframe tbody tr th {\n        vertical-align: top;\n    }\n\n    .dataframe thead th {\n        text-align: right;\n    }\n</style>\n<table border=\"1\" class=\"dataframe\">\n  <thead>\n    <tr style=\"text-align: right;\">\n      <th></th>\n      <th>ID_Post</th>\n    </tr>\n  </thead>\n  <tbody>\n    <tr>\n      <th>0</th>\n      <td>79</td>\n    </tr>\n    <tr>\n      <th>1</th>\n      <td>81</td>\n    </tr>\n    <tr>\n      <th>2</th>\n      <td>132</td>\n    </tr>\n    <tr>\n      <th>3</th>\n      <td>134</td>\n    </tr>\n    <tr>\n      <th>4</th>\n      <td>139</td>\n    </tr>\n    <tr>\n      <th>...</th>\n      <td>...</td>\n    </tr>\n    <tr>\n      <th>40562</th>\n      <td>1006960</td>\n    </tr>\n    <tr>\n      <th>40563</th>\n      <td>1006960</td>\n    </tr>\n    <tr>\n      <th>40564</th>\n      <td>1006960</td>\n    </tr>\n    <tr>\n      <th>40565</th>\n      <td>1010868</td>\n    </tr>\n    <tr>\n      <th>40566</th>\n      <td>1010997</td>\n    </tr>\n  </tbody>\n</table>\n<p>40567 rows × 1 columns</p>\n</div>"
     },
     "execution_count": 4,
     "metadata": {},
     "output_type": "execute_result"
    }
   ],
   "source": [
    "# Number of labeled posts\n",
    "pd.read_sql_query(\"SELECT ID_Post FROM Annotations_consolidated\",cnx)"
   ],
   "metadata": {
    "collapsed": false,
    "pycharm": {
     "name": "#%%\n"
    }
   }
  },
  {
   "cell_type": "code",
   "execution_count": 5,
   "outputs": [
    {
     "data": {
      "text/plain": "         ID_Post\n0              1\n1              2\n2              3\n3              4\n4              5\n...          ...\n1011768  1011769\n1011769  1011770\n1011770  1011771\n1011771  1011772\n1011772  1011773\n\n[1011773 rows x 1 columns]",
      "text/html": "<div>\n<style scoped>\n    .dataframe tbody tr th:only-of-type {\n        vertical-align: middle;\n    }\n\n    .dataframe tbody tr th {\n        vertical-align: top;\n    }\n\n    .dataframe thead th {\n        text-align: right;\n    }\n</style>\n<table border=\"1\" class=\"dataframe\">\n  <thead>\n    <tr style=\"text-align: right;\">\n      <th></th>\n      <th>ID_Post</th>\n    </tr>\n  </thead>\n  <tbody>\n    <tr>\n      <th>0</th>\n      <td>1</td>\n    </tr>\n    <tr>\n      <th>1</th>\n      <td>2</td>\n    </tr>\n    <tr>\n      <th>2</th>\n      <td>3</td>\n    </tr>\n    <tr>\n      <th>3</th>\n      <td>4</td>\n    </tr>\n    <tr>\n      <th>4</th>\n      <td>5</td>\n    </tr>\n    <tr>\n      <th>...</th>\n      <td>...</td>\n    </tr>\n    <tr>\n      <th>1011768</th>\n      <td>1011769</td>\n    </tr>\n    <tr>\n      <th>1011769</th>\n      <td>1011770</td>\n    </tr>\n    <tr>\n      <th>1011770</th>\n      <td>1011771</td>\n    </tr>\n    <tr>\n      <th>1011771</th>\n      <td>1011772</td>\n    </tr>\n    <tr>\n      <th>1011772</th>\n      <td>1011773</td>\n    </tr>\n  </tbody>\n</table>\n<p>1011773 rows × 1 columns</p>\n</div>"
     },
     "execution_count": 5,
     "metadata": {},
     "output_type": "execute_result"
    }
   ],
   "source": [
    "# Number of posts in total\n",
    "pd.read_sql_query(\"SELECT ID_Post FROM Posts\",cnx)"
   ],
   "metadata": {
    "collapsed": false,
    "pycharm": {
     "name": "#%%\n"
    }
   }
  },
  {
   "cell_type": "code",
   "execution_count": 4,
   "outputs": [
    {
     "data": {
      "text/plain": "3599"
     },
     "execution_count": 4,
     "metadata": {},
     "output_type": "execute_result"
    }
   ],
   "source": [
    "# Number of posts having all 9 labels set\n",
    "\n",
    "comments_df = pd.read_sql_query(\"Select ID_Post, Headline, Body FROM Posts\",cnx)\n",
    "labels_df = pd.read_sql_query(\"SELECT * From Annotations_consolidated\",cnx)\n",
    "\n",
    "labels = [\"ArgumentsUsed\", \"Discriminating\", \"Inappropriate\", \"OffTopic\", \"PersonalStories\", \"PossiblyFeedback\",\n",
    "          \"SentimentNegative\", \"SentimentNeutral\", \"SentimentPositive\"]\n",
    "\n",
    "label_map = {y: x for (x, y) in enumerate(labels)}\n",
    "\n",
    "index_values_of_9_label_posts = labels_df.value_counts(\"ID_Post\")[labels_df.value_counts(\"ID_Post\").isin([9])].index\n",
    "len(index_values_of_9_label_posts)"
   ],
   "metadata": {
    "collapsed": false,
    "pycharm": {
     "name": "#%%\n"
    }
   }
  },
  {
   "cell_type": "code",
   "execution_count": 8,
   "outputs": [
    {
     "data": {
      "text/plain": "Empty DataFrame\nColumns: [ID_Post]\nIndex: []",
      "text/html": "<div>\n<style scoped>\n    .dataframe tbody tr th:only-of-type {\n        vertical-align: middle;\n    }\n\n    .dataframe tbody tr th {\n        vertical-align: top;\n    }\n\n    .dataframe thead th {\n        text-align: right;\n    }\n</style>\n<table border=\"1\" class=\"dataframe\">\n  <thead>\n    <tr style=\"text-align: right;\">\n      <th></th>\n      <th>ID_Post</th>\n    </tr>\n  </thead>\n  <tbody>\n  </tbody>\n</table>\n</div>"
     },
     "execution_count": 8,
     "metadata": {},
     "output_type": "execute_result"
    }
   ],
   "source": [
    "#Nächste 3 Zellen: Sentiments sind als einziges disjunkt.\n",
    "pd.read_sql_query(\"SELECT ID_Post FROM Annotations_consolidated WHERE Category = 'SentimentPositive' AND Value=1 \"\n",
    "\"INTERSECT \"\n",
    "\"SELECT ID_Post FROM Annotations_consolidated WHERE Category = 'SentimentNeutral' AND Value=1  \",cnx)"
   ],
   "metadata": {
    "collapsed": false,
    "pycharm": {
     "name": "#%%\n"
    }
   }
  },
  {
   "cell_type": "code",
   "execution_count": 9,
   "outputs": [
    {
     "data": {
      "text/plain": "Empty DataFrame\nColumns: [ID_Post]\nIndex: []",
      "text/html": "<div>\n<style scoped>\n    .dataframe tbody tr th:only-of-type {\n        vertical-align: middle;\n    }\n\n    .dataframe tbody tr th {\n        vertical-align: top;\n    }\n\n    .dataframe thead th {\n        text-align: right;\n    }\n</style>\n<table border=\"1\" class=\"dataframe\">\n  <thead>\n    <tr style=\"text-align: right;\">\n      <th></th>\n      <th>ID_Post</th>\n    </tr>\n  </thead>\n  <tbody>\n  </tbody>\n</table>\n</div>"
     },
     "execution_count": 9,
     "metadata": {},
     "output_type": "execute_result"
    }
   ],
   "source": [
    "pd.read_sql_query(\"SELECT ID_Post FROM Annotations_consolidated WHERE Category = 'SentimentPositive' AND Value=1 \"\n",
    "                  \"INTERSECT \"\n",
    "                  \"SELECT ID_Post FROM Annotations_consolidated WHERE Category = 'SentimentNegative' AND Value=1  \",cnx)"
   ],
   "metadata": {
    "collapsed": false,
    "pycharm": {
     "name": "#%%\n"
    }
   }
  },
  {
   "cell_type": "code",
   "execution_count": 10,
   "outputs": [
    {
     "data": {
      "text/plain": "Empty DataFrame\nColumns: [ID_Post]\nIndex: []",
      "text/html": "<div>\n<style scoped>\n    .dataframe tbody tr th:only-of-type {\n        vertical-align: middle;\n    }\n\n    .dataframe tbody tr th {\n        vertical-align: top;\n    }\n\n    .dataframe thead th {\n        text-align: right;\n    }\n</style>\n<table border=\"1\" class=\"dataframe\">\n  <thead>\n    <tr style=\"text-align: right;\">\n      <th></th>\n      <th>ID_Post</th>\n    </tr>\n  </thead>\n  <tbody>\n  </tbody>\n</table>\n</div>"
     },
     "execution_count": 10,
     "metadata": {},
     "output_type": "execute_result"
    }
   ],
   "source": [
    "pd.read_sql_query(\"SELECT ID_Post FROM Annotations_consolidated WHERE Category = 'SentimentNeutral' AND Value=1 \"\n",
    "                  \"INTERSECT \"\n",
    "                  \"SELECT ID_Post FROM Annotations_consolidated WHERE Category = 'SentimentNegative' AND Value=1  \",cnx)"
   ],
   "metadata": {
    "collapsed": false,
    "pycharm": {
     "name": "#%%\n"
    }
   }
  },
  {
   "cell_type": "code",
   "execution_count": null,
   "outputs": [],
   "source": [],
   "metadata": {
    "collapsed": false,
    "pycharm": {
     "name": "#%%\n"
    }
   }
  }
 ],
 "metadata": {
  "kernelspec": {
   "display_name": "Python 3",
   "language": "python",
   "name": "python3"
  },
  "language_info": {
   "codemirror_mode": {
    "name": "ipython",
    "version": 2
   },
   "file_extension": ".py",
   "mimetype": "text/x-python",
   "name": "python",
   "nbconvert_exporter": "python",
   "pygments_lexer": "ipython2",
   "version": "2.7.6"
  }
 },
 "nbformat": 4,
 "nbformat_minor": 0
}