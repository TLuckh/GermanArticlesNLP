{
 "cells": [
  {
   "cell_type": "code",
   "execution_count": 1,
   "outputs": [],
   "source": [
    "import _sqlite3\n",
    "import pandas as pd\n",
    "import numpy as np\n",
    "\n",
    "cnx = _sqlite3.connect(\"corpus.sqlite3\")"
   ],
   "metadata": {
    "collapsed": false,
    "pycharm": {
     "name": "#%%\n"
    }
   }
  },
  {
   "cell_type": "code",
   "execution_count": 2,
   "outputs": [],
   "source": [
    "comments_df = pd.read_sql_query(\"Select ID_Post, Headline, Body FROM Posts\",cnx)\n",
    "labels_df = pd.read_sql_query(\"SELECT * From Annotations_consolidated\",cnx)"
   ],
   "metadata": {
    "collapsed": false,
    "pycharm": {
     "name": "#%%\n"
    }
   }
  },
  {
   "cell_type": "code",
   "execution_count": 3,
   "outputs": [],
   "source": [
    "labels = [\"ArgumentsUsed\",\"Discriminating\",\"Inappropriate\",\"OffTopic\",\"PersonalStories\",\"PossiblyFeedback\",\"SentimentNegative\",\"SentimentNeutral\",\"SentimentPositive\"]\n",
    "\n",
    "label_map = {y:x for (x,y) in enumerate(labels)}"
   ],
   "metadata": {
    "collapsed": false,
    "pycharm": {
     "name": "#%%\n"
    }
   }
  },
  {
   "cell_type": "code",
   "execution_count": 4,
   "outputs": [
    {
     "data": {
      "text/plain": "         ID_Post                   Headline  \\\n0              1                              \n1              2  Newsletter \"DER STANDARD\"   \n2              3         Auch begeistert...   \n3              4            Abmeldeprobleme   \n4              5                              \n...          ...                        ...   \n1011768  1011769                       None   \n1011769  1011770                       None   \n1011770  1011771                       None   \n1011771  1011772                       None   \n1011772  1011773          Elisabeth Leopold   \n\n                                                      Body  \n0                                                           \n1        Ich bin begeistert von den STANDARD - Newslett...  \n2        ... Aber momentan funktioniert das Abmelden od...  \n3        Es ist ganz einfach nervend!\\r\\nVor kurzem hab...  \n4         und sie als mitarbeiter sind natuerlich objektiv  \n...                                                    ...  \n1011768  zwischen der beendigung eines arbeitsverhältni...  \n1011769  du sagst es ja im namen selbst: wegen eindicku...  \n1011770  Was genau haben Sie denn nicht verstanden? Ich...  \n1011771  irgendwie widersprechen Sie sich in Ihrem Post...  \n1011772  Ohne sie läuft doch weiterhin gar nichts im Le...  \n\n[1011773 rows x 3 columns]",
      "text/html": "<div>\n<style scoped>\n    .dataframe tbody tr th:only-of-type {\n        vertical-align: middle;\n    }\n\n    .dataframe tbody tr th {\n        vertical-align: top;\n    }\n\n    .dataframe thead th {\n        text-align: right;\n    }\n</style>\n<table border=\"1\" class=\"dataframe\">\n  <thead>\n    <tr style=\"text-align: right;\">\n      <th></th>\n      <th>ID_Post</th>\n      <th>Headline</th>\n      <th>Body</th>\n    </tr>\n  </thead>\n  <tbody>\n    <tr>\n      <th>0</th>\n      <td>1</td>\n      <td></td>\n      <td></td>\n    </tr>\n    <tr>\n      <th>1</th>\n      <td>2</td>\n      <td>Newsletter \"DER STANDARD\"</td>\n      <td>Ich bin begeistert von den STANDARD - Newslett...</td>\n    </tr>\n    <tr>\n      <th>2</th>\n      <td>3</td>\n      <td>Auch begeistert...</td>\n      <td>... Aber momentan funktioniert das Abmelden od...</td>\n    </tr>\n    <tr>\n      <th>3</th>\n      <td>4</td>\n      <td>Abmeldeprobleme</td>\n      <td>Es ist ganz einfach nervend!\\r\\nVor kurzem hab...</td>\n    </tr>\n    <tr>\n      <th>4</th>\n      <td>5</td>\n      <td></td>\n      <td>und sie als mitarbeiter sind natuerlich objektiv</td>\n    </tr>\n    <tr>\n      <th>...</th>\n      <td>...</td>\n      <td>...</td>\n      <td>...</td>\n    </tr>\n    <tr>\n      <th>1011768</th>\n      <td>1011769</td>\n      <td>None</td>\n      <td>zwischen der beendigung eines arbeitsverhältni...</td>\n    </tr>\n    <tr>\n      <th>1011769</th>\n      <td>1011770</td>\n      <td>None</td>\n      <td>du sagst es ja im namen selbst: wegen eindicku...</td>\n    </tr>\n    <tr>\n      <th>1011770</th>\n      <td>1011771</td>\n      <td>None</td>\n      <td>Was genau haben Sie denn nicht verstanden? Ich...</td>\n    </tr>\n    <tr>\n      <th>1011771</th>\n      <td>1011772</td>\n      <td>None</td>\n      <td>irgendwie widersprechen Sie sich in Ihrem Post...</td>\n    </tr>\n    <tr>\n      <th>1011772</th>\n      <td>1011773</td>\n      <td>Elisabeth Leopold</td>\n      <td>Ohne sie läuft doch weiterhin gar nichts im Le...</td>\n    </tr>\n  </tbody>\n</table>\n<p>1011773 rows × 3 columns</p>\n</div>"
     },
     "execution_count": 4,
     "metadata": {},
     "output_type": "execute_result"
    }
   ],
   "source": [
    "comments_df"
   ],
   "metadata": {
    "collapsed": false,
    "pycharm": {
     "name": "#%%\n"
    }
   }
  },
  {
   "cell_type": "code",
   "execution_count": 5,
   "outputs": [
    {
     "data": {
      "text/plain": "ID_Post\n432258      True\n136446      True\n136458      True\n136457      True\n136456      True\n           ...  \n17999      False\n18001      False\n18006      False\n18007      False\n1010997    False\nLength: 11773, dtype: bool"
     },
     "execution_count": 5,
     "metadata": {},
     "output_type": "execute_result"
    }
   ],
   "source": [
    "labels_df.value_counts(\"ID_Post\").isin([9])"
   ],
   "metadata": {
    "collapsed": false,
    "pycharm": {
     "name": "#%%\n"
    }
   }
  },
  {
   "cell_type": "code",
   "execution_count": 6,
   "outputs": [
    {
     "data": {
      "text/plain": "3599"
     },
     "execution_count": 6,
     "metadata": {},
     "output_type": "execute_result"
    }
   ],
   "source": [
    "index_values_of_9_label_posts = labels_df.value_counts(\"ID_Post\")[labels_df.value_counts(\"ID_Post\").isin([9])].index\n",
    "len(index_values_of_9_label_posts)"
   ],
   "metadata": {
    "collapsed": false,
    "pycharm": {
     "name": "#%%\n"
    }
   }
  },
  {
   "cell_type": "code",
   "execution_count": 7,
   "outputs": [],
   "source": [
    "# Die Kommentare, für die alle 9 Labels annotiert wurden:\n",
    "comments_filtered_df =comments_df.loc[index_values_of_9_label_posts]\n"
   ],
   "metadata": {
    "collapsed": false,
    "pycharm": {
     "name": "#%%\n"
    }
   }
  },
  {
   "cell_type": "code",
   "execution_count": 8,
   "outputs": [],
   "source": [
    "# Anfügen der Spalten für jedes Label in comments_filtered_df\n",
    "for label in labels:\n",
    "    comments_filtered_df[label] = np.zeros(len(index_values_of_9_label_posts))"
   ],
   "metadata": {
    "collapsed": false,
    "pycharm": {
     "name": "#%%\n"
    }
   }
  },
  {
   "cell_type": "code",
   "execution_count": 9,
   "outputs": [
    {
     "data": {
      "text/plain": "         ID_Post                                       Headline  \\\nID_Post                                                           \n432258    432259                                           None   \n136446    136447                                           None   \n136458    136459                                           None   \n136457    136458                                           None   \n136456    136457                                           None   \n...          ...                                            ...   \n875899    875900                                           None   \n875937    875938                                           None   \n875900    875901                                 Video an sehen   \n875858    875859                                           None   \n875888    875889  ...wie man nur die wahrheit verdrehen kann...   \n\n                                                      Body  ArgumentsUsed  \\\nID_Post                                                                     \n432258   Das kann man nur mutmaßen, aber nicht erkennen...            0.0   \n136446      Sorry für die verursachte Mühe der Löschungen.            0.0   \n136458   Witzig, dass der Poster selber nicht widerspro...            0.0   \n136457   Foggwulf und Mouilly haben es Ihnen ja schon e...            1.0   \n136456   was auch erklärt, warum körperlich schwächere ...            1.0   \n...                                                    ...            ...   \n875899   Das beste Mittel gegen die angebliche Hetze si...            0.0   \n875937   Frankreich und Portugal haben ihnen angeboten ...            0.0   \n875900   die Stinkefinger sind schon ausgefahren.... \\r...            0.0   \n875858   Korrekte Headline: Migranten versuchen erneut ...            0.0   \n875888   NICHT: ...die mazedonische Polizei am Mittwoch...            0.0   \n\n         Discriminating  Inappropriate  OffTopic  PersonalStories  \\\nID_Post                                                             \n432258              0.0            0.0       0.0              0.0   \n136446              0.0            0.0       0.0              0.0   \n136458              0.0            0.0       1.0              0.0   \n136457              0.0            0.0       0.0              0.0   \n136456              0.0            0.0       0.0              0.0   \n...                 ...            ...       ...              ...   \n875899              0.0            0.0       0.0              0.0   \n875937              0.0            0.0       0.0              0.0   \n875900              0.0            0.0       0.0              0.0   \n875858              0.0            0.0       0.0              0.0   \n875888              1.0            0.0       0.0              0.0   \n\n         PossiblyFeedback  SentimentNegative  SentimentNeutral  \\\nID_Post                                                          \n432258                0.0                0.0               1.0   \n136446                0.0                1.0               0.0   \n136458                0.0                0.0               1.0   \n136457                0.0                0.0               1.0   \n136456                0.0                0.0               1.0   \n...                   ...                ...               ...   \n875899                0.0                1.0               0.0   \n875937                0.0                1.0               0.0   \n875900                0.0                1.0               0.0   \n875858                0.0                0.0               1.0   \n875888                0.0                1.0               0.0   \n\n         SentimentPositive  \nID_Post                     \n432258                 0.0  \n136446                 0.0  \n136458                 0.0  \n136457                 0.0  \n136456                 0.0  \n...                    ...  \n875899                 0.0  \n875937                 0.0  \n875900                 0.0  \n875858                 0.0  \n875888                 0.0  \n\n[3599 rows x 12 columns]",
      "text/html": "<div>\n<style scoped>\n    .dataframe tbody tr th:only-of-type {\n        vertical-align: middle;\n    }\n\n    .dataframe tbody tr th {\n        vertical-align: top;\n    }\n\n    .dataframe thead th {\n        text-align: right;\n    }\n</style>\n<table border=\"1\" class=\"dataframe\">\n  <thead>\n    <tr style=\"text-align: right;\">\n      <th></th>\n      <th>ID_Post</th>\n      <th>Headline</th>\n      <th>Body</th>\n      <th>ArgumentsUsed</th>\n      <th>Discriminating</th>\n      <th>Inappropriate</th>\n      <th>OffTopic</th>\n      <th>PersonalStories</th>\n      <th>PossiblyFeedback</th>\n      <th>SentimentNegative</th>\n      <th>SentimentNeutral</th>\n      <th>SentimentPositive</th>\n    </tr>\n    <tr>\n      <th>ID_Post</th>\n      <th></th>\n      <th></th>\n      <th></th>\n      <th></th>\n      <th></th>\n      <th></th>\n      <th></th>\n      <th></th>\n      <th></th>\n      <th></th>\n      <th></th>\n      <th></th>\n    </tr>\n  </thead>\n  <tbody>\n    <tr>\n      <th>432258</th>\n      <td>432259</td>\n      <td>None</td>\n      <td>Das kann man nur mutmaßen, aber nicht erkennen...</td>\n      <td>0.0</td>\n      <td>0.0</td>\n      <td>0.0</td>\n      <td>0.0</td>\n      <td>0.0</td>\n      <td>0.0</td>\n      <td>0.0</td>\n      <td>1.0</td>\n      <td>0.0</td>\n    </tr>\n    <tr>\n      <th>136446</th>\n      <td>136447</td>\n      <td>None</td>\n      <td>Sorry für die verursachte Mühe der Löschungen.</td>\n      <td>0.0</td>\n      <td>0.0</td>\n      <td>0.0</td>\n      <td>0.0</td>\n      <td>0.0</td>\n      <td>0.0</td>\n      <td>1.0</td>\n      <td>0.0</td>\n      <td>0.0</td>\n    </tr>\n    <tr>\n      <th>136458</th>\n      <td>136459</td>\n      <td>None</td>\n      <td>Witzig, dass der Poster selber nicht widerspro...</td>\n      <td>0.0</td>\n      <td>0.0</td>\n      <td>0.0</td>\n      <td>1.0</td>\n      <td>0.0</td>\n      <td>0.0</td>\n      <td>0.0</td>\n      <td>1.0</td>\n      <td>0.0</td>\n    </tr>\n    <tr>\n      <th>136457</th>\n      <td>136458</td>\n      <td>None</td>\n      <td>Foggwulf und Mouilly haben es Ihnen ja schon e...</td>\n      <td>1.0</td>\n      <td>0.0</td>\n      <td>0.0</td>\n      <td>0.0</td>\n      <td>0.0</td>\n      <td>0.0</td>\n      <td>0.0</td>\n      <td>1.0</td>\n      <td>0.0</td>\n    </tr>\n    <tr>\n      <th>136456</th>\n      <td>136457</td>\n      <td>None</td>\n      <td>was auch erklärt, warum körperlich schwächere ...</td>\n      <td>1.0</td>\n      <td>0.0</td>\n      <td>0.0</td>\n      <td>0.0</td>\n      <td>0.0</td>\n      <td>0.0</td>\n      <td>0.0</td>\n      <td>1.0</td>\n      <td>0.0</td>\n    </tr>\n    <tr>\n      <th>...</th>\n      <td>...</td>\n      <td>...</td>\n      <td>...</td>\n      <td>...</td>\n      <td>...</td>\n      <td>...</td>\n      <td>...</td>\n      <td>...</td>\n      <td>...</td>\n      <td>...</td>\n      <td>...</td>\n      <td>...</td>\n    </tr>\n    <tr>\n      <th>875899</th>\n      <td>875900</td>\n      <td>None</td>\n      <td>Das beste Mittel gegen die angebliche Hetze si...</td>\n      <td>0.0</td>\n      <td>0.0</td>\n      <td>0.0</td>\n      <td>0.0</td>\n      <td>0.0</td>\n      <td>0.0</td>\n      <td>1.0</td>\n      <td>0.0</td>\n      <td>0.0</td>\n    </tr>\n    <tr>\n      <th>875937</th>\n      <td>875938</td>\n      <td>None</td>\n      <td>Frankreich und Portugal haben ihnen angeboten ...</td>\n      <td>0.0</td>\n      <td>0.0</td>\n      <td>0.0</td>\n      <td>0.0</td>\n      <td>0.0</td>\n      <td>0.0</td>\n      <td>1.0</td>\n      <td>0.0</td>\n      <td>0.0</td>\n    </tr>\n    <tr>\n      <th>875900</th>\n      <td>875901</td>\n      <td>Video an sehen</td>\n      <td>die Stinkefinger sind schon ausgefahren.... \\r...</td>\n      <td>0.0</td>\n      <td>0.0</td>\n      <td>0.0</td>\n      <td>0.0</td>\n      <td>0.0</td>\n      <td>0.0</td>\n      <td>1.0</td>\n      <td>0.0</td>\n      <td>0.0</td>\n    </tr>\n    <tr>\n      <th>875858</th>\n      <td>875859</td>\n      <td>None</td>\n      <td>Korrekte Headline: Migranten versuchen erneut ...</td>\n      <td>0.0</td>\n      <td>0.0</td>\n      <td>0.0</td>\n      <td>0.0</td>\n      <td>0.0</td>\n      <td>0.0</td>\n      <td>0.0</td>\n      <td>1.0</td>\n      <td>0.0</td>\n    </tr>\n    <tr>\n      <th>875888</th>\n      <td>875889</td>\n      <td>...wie man nur die wahrheit verdrehen kann...</td>\n      <td>NICHT: ...die mazedonische Polizei am Mittwoch...</td>\n      <td>0.0</td>\n      <td>1.0</td>\n      <td>0.0</td>\n      <td>0.0</td>\n      <td>0.0</td>\n      <td>0.0</td>\n      <td>1.0</td>\n      <td>0.0</td>\n      <td>0.0</td>\n    </tr>\n  </tbody>\n</table>\n<p>3599 rows × 12 columns</p>\n</div>"
     },
     "execution_count": 9,
     "metadata": {},
     "output_type": "execute_result"
    }
   ],
   "source": [
    "# Setzen der Labels in comments_filtered_df\n",
    "index_values = set(index_values_of_9_label_posts)\n",
    "for index,row in labels_df.iterrows():\n",
    "    if row[\"ID_Post\"] in index_values:\n",
    "        # cur_label = label_map[row[\"Category\"]]\n",
    "        # cur_label_value = row[\"Value\"]\n",
    "\n",
    "        comments_filtered_df.at[row[\"ID_Post\"],row[\"Category\"]] = row[\"Value\"]\n",
    "\n",
    "comments_filtered_df"
   ],
   "metadata": {
    "collapsed": false,
    "pycharm": {
     "name": "#%%\n"
    }
   }
  },
  {
   "cell_type": "code",
   "execution_count": 10,
   "outputs": [],
   "source": [
    "#Drop the ID_Post-column\n",
    "comments_filtered_df=comments_filtered_df.drop(\"ID_Post\",axis=1)"
   ],
   "metadata": {
    "collapsed": false,
    "pycharm": {
     "name": "#%%\n"
    }
   }
  },
  {
   "cell_type": "code",
   "execution_count": 11,
   "outputs": [
    {
     "name": "stdout",
     "output_type": "stream",
     "text": [
      "ArgumentsUsed\n",
      "0.0    2577\n",
      "1.0    1022\n",
      "dtype: int64\n",
      "Discriminating\n",
      "0.0    3317\n",
      "1.0     282\n",
      "dtype: int64\n",
      "Inappropriate\n",
      "0.0    3296\n",
      "1.0     303\n",
      "dtype: int64\n",
      "OffTopic\n",
      "0.0    3019\n",
      "1.0     580\n",
      "dtype: int64\n",
      "PersonalStories\n",
      "0.0    3552\n",
      "1.0      47\n",
      "dtype: int64\n",
      "PossiblyFeedback\n",
      "0.0    3527\n",
      "1.0      72\n",
      "dtype: int64\n",
      "SentimentNegative\n",
      "0.0    1908\n",
      "1.0    1691\n",
      "dtype: int64\n",
      "SentimentNeutral\n",
      "1.0    1865\n",
      "0.0    1734\n",
      "dtype: int64\n",
      "SentimentPositive\n",
      "0.0    3556\n",
      "1.0      43\n",
      "dtype: int64\n"
     ]
    }
   ],
   "source": [
    "#Verteilung der Label-Werte nach Label:\n",
    "for label in labels:\n",
    "    print(comments_filtered_df.value_counts(label))"
   ],
   "metadata": {
    "collapsed": false,
    "pycharm": {
     "name": "#%%\n"
    }
   }
  },
  {
   "cell_type": "code",
   "execution_count": 12,
   "outputs": [
    {
     "data": {
      "text/plain": "array([[ 1.00000000e+00, -1.39146737e-02, -1.14037883e-02,\n        -2.77025023e-02,  4.34940674e-03, -1.51310902e-03,\n        -6.22921637e-02,  6.34621037e-02, -1.16994000e-03],\n       [-1.39146737e-02,  1.00000000e+00,  2.57249378e-03,\n        -4.84744574e-03, -1.02325358e-03, -1.28968244e-03,\n         3.95947564e-02, -3.86585882e-02, -9.36168169e-04],\n       [-1.14037883e-02,  2.57249378e-03,  1.00000000e+00,\n         1.14392246e-02, -1.09945332e-03,  1.37213565e-03,\n         4.18545765e-02, -4.08486937e-02, -1.00588282e-03],\n       [-2.77025023e-02, -4.84744574e-03,  1.14392246e-02,\n         1.00000000e+00, -1.27099922e-03,  2.05523114e-03,\n         1.37497673e-02, -1.21021700e-02, -1.64759730e-03],\n       [ 4.34940674e-03, -1.02325358e-03, -1.09945332e-03,\n        -1.27099922e-03,  1.00000000e+00, -2.61256233e-04,\n        -5.30232804e-03,  4.06908127e-03,  1.23324677e-03],\n       [-1.51310902e-03, -1.28968244e-03,  1.37213565e-03,\n         2.05523114e-03, -2.61256233e-04,  1.00000000e+00,\n         5.04879215e-03, -4.80977049e-03, -2.39021660e-04],\n       [-6.22921637e-02,  3.95947564e-02,  4.18545765e-02,\n         1.37497673e-02, -5.30232804e-03,  5.04879215e-03,\n         1.00000000e+00, -2.43477453e-01, -5.61368927e-03],\n       [ 6.34621037e-02, -3.86585882e-02, -4.08486937e-02,\n        -1.21021700e-02,  4.06908127e-03, -4.80977049e-03,\n        -2.43477453e-01,  1.00000000e+00, -6.19132495e-03],\n       [-1.16994000e-03, -9.36168169e-04, -1.00588282e-03,\n        -1.64759730e-03,  1.23324677e-03, -2.39021660e-04,\n        -5.61368927e-03, -6.19132495e-03,  1.00000000e+00]])"
     },
     "execution_count": 12,
     "metadata": {},
     "output_type": "execute_result"
    }
   ],
   "source": [
    "correlation_matrix = np.zeros((len(labels),len(labels)))\n",
    "\n",
    "for label1 in labels:\n",
    "    for label2 in labels:\n",
    "        if (label1 == label2):\n",
    "            continue\n",
    "        two_argument_view = comments_filtered_df[[label1,label2]]\n",
    "\n",
    "        sum = 0\n",
    "        for index, row in two_argument_view.iterrows():\n",
    "            sum += row[label1]*row[label2]\n",
    "\n",
    "        avgl1l2 = sum/comments_filtered_df.shape[0]\n",
    "\n",
    "\n",
    "        sum = 0\n",
    "        for index, row in comments_filtered_df[[label1]].iterrows():\n",
    "            sum += row[label1]\n",
    "\n",
    "        avgl1 = sum/comments_filtered_df.shape[0]\n",
    "\n",
    "\n",
    "        sum = 0\n",
    "        for index, row in comments_filtered_df[[label2]].iterrows():\n",
    "            sum += row[label2]\n",
    "\n",
    "        avgl2 = sum/comments_filtered_df.shape[0]\n",
    "\n",
    "        corl1l2 = avgl1l2-avgl1*avgl2\n",
    "        jkl = ((label_map[label1],label_map[label2]),corl1l2)\n",
    "        correlation_matrix.itemset((label_map[label1],label_map[label2]),corl1l2)\n",
    "\n",
    "# Covariance matrix of the 9 features:\n",
    "correlation_matrix+np.diag(np.ones(9))\n"
   ],
   "metadata": {
    "collapsed": false,
    "pycharm": {
     "name": "#%%\n"
    }
   }
  },
  {
   "cell_type": "code",
   "execution_count": 13,
   "outputs": [
    {
     "data": {
      "text/plain": "{'ArgumentsUsed': 0,\n 'Discriminating': 1,\n 'Inappropriate': 2,\n 'OffTopic': 3,\n 'PersonalStories': 4,\n 'PossiblyFeedback': 5,\n 'SentimentNegative': 6,\n 'SentimentNeutral': 7,\n 'SentimentPositive': 8}"
     },
     "execution_count": 13,
     "metadata": {},
     "output_type": "execute_result"
    }
   ],
   "source": [
    "# We see that the labels are nearly uncorrelated, with exception of the label pair (6,7) [SentimentNegative,SentimentNeutral], which however goes to show that the definition of what exactly makes a comment be of negative sentiment is rather unclear.\n",
    "\n",
    "# The labels corresponding with the numbers of the matrix:\n",
    "label_map"
   ],
   "metadata": {
    "collapsed": false,
    "pycharm": {
     "name": "#%%\n"
    }
   }
  },
  {
   "cell_type": "code",
   "execution_count": 14,
   "outputs": [],
   "source": [
    "# two_argument_view = comments_filtered_df[[label1,label2]]\n",
    "# index, row = next(comments_filtered_df[[label1]].iterrows())\n",
    "#\n",
    "# row[label2]"
   ],
   "metadata": {
    "collapsed": false,
    "pycharm": {
     "name": "#%%\n"
    }
   }
  },
  {
   "cell_type": "code",
   "execution_count": 15,
   "outputs": [
    {
     "data": {
      "text/plain": "array([[ 1.00000000e+00, -1.39146737e-02, -1.14037883e-02,\n        -2.77025023e-02,  4.34940674e-03, -1.51310902e-03,\n        -6.22921637e-02,  6.34621037e-02, -1.16994000e-03],\n       [-1.39146737e-02,  1.00000000e+00,  2.57249378e-03,\n        -4.84744574e-03, -1.02325358e-03, -1.28968244e-03,\n         3.95947564e-02, -3.86585882e-02, -9.36168169e-04],\n       [-1.14037883e-02,  2.57249378e-03,  1.00000000e+00,\n         1.14392246e-02, -1.09945332e-03,  1.37213565e-03,\n         4.18545765e-02, -4.08486937e-02, -1.00588282e-03],\n       [-2.77025023e-02, -4.84744574e-03,  1.14392246e-02,\n         1.00000000e+00, -1.27099922e-03,  2.05523114e-03,\n         1.37497673e-02, -1.21021700e-02, -1.64759730e-03],\n       [ 4.34940674e-03, -1.02325358e-03, -1.09945332e-03,\n        -1.27099922e-03,  1.00000000e+00, -2.61256233e-04,\n        -5.30232804e-03,  4.06908127e-03,  1.23324677e-03],\n       [-1.51310902e-03, -1.28968244e-03,  1.37213565e-03,\n         2.05523114e-03, -2.61256233e-04,  1.00000000e+00,\n         5.04879215e-03, -4.80977049e-03, -2.39021660e-04],\n       [-6.22921637e-02,  3.95947564e-02,  4.18545765e-02,\n         1.37497673e-02, -5.30232804e-03,  5.04879215e-03,\n         1.00000000e+00, -2.43477453e-01, -5.61368927e-03],\n       [ 6.34621037e-02, -3.86585882e-02, -4.08486937e-02,\n        -1.21021700e-02,  4.06908127e-03, -4.80977049e-03,\n        -2.43477453e-01,  1.00000000e+00, -6.19132495e-03],\n       [-1.16994000e-03, -9.36168169e-04, -1.00588282e-03,\n        -1.64759730e-03,  1.23324677e-03, -2.39021660e-04,\n        -5.61368927e-03, -6.19132495e-03,  1.00000000e+00]])"
     },
     "execution_count": 15,
     "metadata": {},
     "output_type": "execute_result"
    }
   ],
   "source": [
    "correlation_matrix = np.zeros((len(labels),len(labels)))\n",
    "\n",
    "for label1 in labels:\n",
    "    for label2 in labels:\n",
    "        if (label1 == label2):\n",
    "            continue\n",
    "        two_argument_view = comments_filtered_df[[label1,label2]]\n",
    "\n",
    "        sum = 0\n",
    "        for index, row in two_argument_view.iterrows():\n",
    "            sum += row[label1]*row[label2]\n",
    "\n",
    "        avgl1l2 = sum/comments_filtered_df.shape[0]\n",
    "\n",
    "\n",
    "        sum = 0\n",
    "        for index, row in comments_filtered_df[[label1]].iterrows():\n",
    "            sum += row[label1]\n",
    "\n",
    "        avgl1 = sum/comments_filtered_df.shape[0]\n",
    "\n",
    "\n",
    "        sum = 0\n",
    "        for index, row in comments_filtered_df[[label2]].iterrows():\n",
    "            sum += row[label2]\n",
    "\n",
    "        avgl2 = sum/comments_filtered_df.shape[0]\n",
    "\n",
    "        corl1l2 = avgl1l2-avgl1*avgl2\n",
    "        jkl = ((label_map[label1],label_map[label2]),corl1l2)\n",
    "        correlation_matrix.itemset((label_map[label1],label_map[label2]),corl1l2)\n",
    "\n",
    "# Covariance matrix of the 9 features:\n",
    "correlation_matrix+np.diag(np.ones(9))\n"
   ],
   "metadata": {
    "collapsed": false,
    "pycharm": {
     "name": "#%%\n"
    }
   }
  },
  {
   "cell_type": "code",
   "execution_count": 159,
   "outputs": [
    {
     "data": {
      "text/plain": "{'ArgumentsUsed': 0,\n 'Discriminating': 1,\n 'Inappropriate': 2,\n 'OffTopic': 3,\n 'PersonalStories': 4,\n 'PossiblyFeedback': 5,\n 'SentimentNegative': 6,\n 'SentimentNeutral': 7,\n 'SentimentPositive': 8}"
     },
     "execution_count": 159,
     "metadata": {},
     "output_type": "execute_result"
    }
   ],
   "source": [
    "# We see that the labels are nearly uncorrelated, with exception of the label pair (6,7) [SentimentNegative,SentimentNeutral], which however goes to show that the definition of what exactly makes a comment be of negative sentiment is rather unclear.\n",
    "\n",
    "# The labels corresponding with the numbers of the matrix:\n",
    "label_map"
   ],
   "metadata": {
    "collapsed": false,
    "pycharm": {
     "name": "#%%\n"
    }
   }
  }
 ],
 "metadata": {
  "kernelspec": {
   "display_name": "Python 3",
   "language": "python",
   "name": "python3"
  },
  "language_info": {
   "codemirror_mode": {
    "name": "ipython",
    "version": 2
   },
   "file_extension": ".py",
   "mimetype": "text/x-python",
   "name": "python",
   "nbconvert_exporter": "python",
   "pygments_lexer": "ipython2",
   "version": "2.7.6"
  }
 },
 "nbformat": 4,
 "nbformat_minor": 0
}